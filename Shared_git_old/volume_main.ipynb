{
 "cells": [
  {
   "cell_type": "code",
   "execution_count": 35,
   "metadata": {
    "collapsed": true
   },
   "outputs": [],
   "source": [
    "from __future__ import absolute_import, division, print_function\n",
    "from random import shuffle # mixing up or currently ordered data that might lead our network astray in training.\n",
    "from tqdm import tqdm       # a nice pretty percentage bar for tasks. Thanks to viewer Daniel BA1/4hler for this suggestion\n",
    "\n",
    "from termcolor import colored\n",
    "import tensorflow as tf\n",
    "import os                   # work with directories\n",
    "import numpy as np          # dealing with arrays\n",
    "import matplotlib.pyplot as plt\n",
    "import time\n",
    "\n",
    "tfe = tf.contrib.eager\n",
    "import pickle as pk\n",
    "import random\n",
    "import sys\n",
    "\n",
    "from tensorflow.python.client import device_lib\n",
    "from tensorflow.python.eager import tape\n",
    "\n",
    "\n",
    "config = tf.ConfigProto()\n",
    "config.gpu_options.allow_growth = True\n",
    "layers = tf.keras.layers\n",
    "tf.enable_eager_execution(config=config)\n",
    "tf.executing_eagerly()\n",
    "print(tf.__version__)\n",
    "\n",
    "\n",
    "HOME_DIR = '/home/moe/PycharmProjects/clean_code/'\n",
    "MAIN_dir = '/home/moe/PycharmProjects/clean_code/Cleaned_code/'\n",
    "elevator_path = '/home/moe/Desktop/bambo_Logs/Data/elevator_fulldata/process/'\n",
    "excel_file = '/home/moe/Desktop/bambo_Logs/Data/weight_log_summary_602020.xlsx'\n",
    "dataset_path = '/home/moe/Desktop/bambo_Logs/Data/my_dataset/'\n",
    "logs_path = MAIN_dir + 'Stereo_volume_data/lowlightlogs.npy'\n",
    "\n",
    "def print_progress(cnt, total_items,time_):\n",
    "    percent_complete = float(cnt) / total_items\n",
    "    sec = int(time_ % 60)\n",
    "    mint = int(time_/60) % 60\n",
    "    hr = int(time_/3600) % 60\n",
    "    msg = \"\\r Time_lapsed (hr:mm:ss) --> {0:02d}:{1:02d}:{2:02d} , Progress:{3:.1%}, completed {4:d} \" \\\n",
    "          \"out of {5:d} items \".format(hr, mint, sec, percent_complete, cnt, total_items)\n",
    "    sys.stdout.write(msg)\n",
    "    sys.stdout.flush()"
   ]
  },
  {
   "cell_type": "code",
   "execution_count": 36,
   "metadata": {},
   "outputs": [],
   "source": [
    ""
   ]
  },
  {
   "cell_type": "code",
   "execution_count": 36,
   "metadata": {
    "collapsed": true
   },
   "outputs": [],
   "source": [
    "\n",
    "pickle_in_train = open(MAIN_dir + 'data_files/' + \"lighting_and_full_data.pickle\", \"rb\")\n",
    "volume_data = pk.load(pickle_in_train)\n",
    "pickle_in_train.close()\n",
    "Log_name = volume_data[\"Log_name\"]\n",
    "ground_truth = volume_data[\"Weight\"]\n",
    "Speed = volume_data[\"Speed\"]\n",
    "Volume = volume_data[\"Volume\"]\n",
    "Time_ = volume_data[\"Time\"]\n",
    "light = volume_data[\"lighting\"]\n",
    "length_ = volume_data[\"Length\"]\n",
    "Volume_Speed = volume_data[\"Volume_Speed\"]\n",
    "\n",
    "vol_logs = np.load(logs_path)"
   ]
  },
  {
   "cell_type": "code",
   "execution_count": 37,
   "metadata": {},
   "outputs": [],
   "source": [
    "pickle_in_test = open(MAIN_dir + 'data_files/' + \"test_full_data.pickle\", \"rb\")\n",
    "test_data = pk.load(pickle_in_test)\n",
    "pickle_in_test.close()\n",
    "Log_name_t = test_data[\"Log_name\"]\n",
    "Volume_t = test_data[\"Volume\"]\n",
    "Speed_t = test_data[\"Speed\"]\n",
    "ground_truth_t = test_data[\"Weight\"]\n",
    "\n",
    "pickle_in_val = open(MAIN_dir + 'data_files/' + \"validation_full_data.pickle\", \"rb\")\n",
    "val_data = pk.load(pickle_in_val)\n",
    "pickle_in_val.close()\n",
    "Log_name_d = val_data[\"Log_name\"]\n",
    "Volume_d = val_data[\"Volume\"]\n",
    "Speed_d = val_data[\"Speed\"]\n",
    "ground_truth_d = val_data[\"Weight\"]\n",
    "\n",
    "pickle_in_train = open(MAIN_dir + 'data_files/' + \"train_full_data.pickle\", \"rb\")\n",
    "train_data = pk.load(pickle_in_train)\n",
    "pickle_in_train.close()\n",
    "Log_name_tr = train_data[\"Log_name\"]\n",
    "Volume_tr = train_data[\"Volume\"]\n",
    "Speed_tr = train_data[\"Speed\"]\n",
    "ground_truth_tr = train_data[\"Weight\"]"
   ]
  },
  {
   "cell_type": "code",
   "execution_count": 13,
   "metadata": {},
   "outputs": [
    {
     "name": "stdout",
     "output_type": "stream",
     "text": [
      "48 48 48\n"
     ]
    }
   ],
   "source": [
    "print(len(Log_name_t), len(Volume_t), len(Speed_d))"
   ]
  },
  {
   "cell_type": "code",
   "execution_count": 38,
   "metadata": {},
   "outputs": [],
   "source": [
    "def model_neg(vol):\n",
    "    beta = 0.24774203504591996\n",
    "    vol_b = tf.nn.relu(vol - beta)\n",
    "    w1 = tf.constant([-0.28591041,  0.06418912,  1.13736639])\n",
    "    b1 = tf.constant([-0.08105918,  0.11260413, -0.04404414])\n",
    "    w2 = tf.constant([-0.21627961, -0.05380324, 0.0326613 ])\n",
    "    w2_1 = tf.reshape(w2, [3, 1])\n",
    "    b2 = tf.constant([-0.13866211])\n",
    "    L1 = tf.add(tf.math.scalar_mul(vol_b, w1), b1) \n",
    "    L1_1 = tf.nn.tanh(L1)\n",
    "    L1_1 = tf.reshape(L1_1, [1, 3])\n",
    "    L2 = tf.add(tf.matmul(L1_1, w2_1), b2)\n",
    "    L2_1 = L2 * vol_b\n",
    "    return L2_1\n",
    "\n",
    "\n",
    "def model_pos(vol):\n",
    "    beta = 2.759320676099754\n",
    "    vol_b = tf.nn.relu(vol - beta)\n",
    "    w1 = tf.constant([1.51248678, 0.05577656, 1.13650198])\n",
    "    b1 = tf.constant([0.69135934, 0.22673389, 0.05709011])\n",
    "    w2 = [[-0.14444944], [-1.25086896], [-0.19815545]]\n",
    "    b2 = tf.constant([-1.24339893])\n",
    "    L1 = tf.add(tf.math.scalar_mul(vol_b, w1), b1) \n",
    "    L1_1 = tf.nn.tanh(L1)\n",
    "    L1_1 = tf.reshape(L1_1, [1, 3])\n",
    "    L2 = tf.add(tf.matmul(L1_1, w2), b2)\n",
    "    L21 = tf.exp(L2)\n",
    "    L2_1 = L21 * vol_b\n",
    "    return L2_1\n"
   ]
  },
  {
   "cell_type": "code",
   "execution_count": 15,
   "metadata": {},
   "outputs": [],
   "source": [
    ""
   ]
  },
  {
   "cell_type": "code",
   "execution_count": 47,
   "metadata": {},
   "outputs": [
    {
     "name": "stdout",
     "output_type": "stream",
     "text": [
      "\r Time_lapsed (hr:mm:ss) --> 00:00:00 , Progress:2.1%, completed 1 out of 48 items "
     ]
    },
    {
     "name": "stdout",
     "output_type": "stream",
     "text": [
      "\r Time_lapsed (hr:mm:ss) --> 00:00:00 , Progress:4.2%, completed 2 out of 48 items "
     ]
    },
    {
     "name": "stdout",
     "output_type": "stream",
     "text": [
      "\r Time_lapsed (hr:mm:ss) --> 00:00:00 , Progress:6.2%, completed 3 out of 48 items "
     ]
    },
    {
     "name": "stdout",
     "output_type": "stream",
     "text": [
      "\r Time_lapsed (hr:mm:ss) --> 00:00:01 , Progress:8.3%, completed 4 out of 48 items "
     ]
    },
    {
     "name": "stdout",
     "output_type": "stream",
     "text": [
      "\r Time_lapsed (hr:mm:ss) --> 00:00:01 , Progress:10.4%, completed 5 out of 48 items "
     ]
    },
    {
     "name": "stdout",
     "output_type": "stream",
     "text": [
      "\r Time_lapsed (hr:mm:ss) --> 00:00:01 , Progress:12.5%, completed 6 out of 48 items "
     ]
    },
    {
     "name": "stdout",
     "output_type": "stream",
     "text": [
      "\r Time_lapsed (hr:mm:ss) --> 00:00:02 , Progress:14.6%, completed 7 out of 48 items "
     ]
    },
    {
     "name": "stdout",
     "output_type": "stream",
     "text": [
      "\r Time_lapsed (hr:mm:ss) --> 00:00:02 , Progress:16.7%, completed 8 out of 48 items "
     ]
    },
    {
     "name": "stdout",
     "output_type": "stream",
     "text": [
      "\r Time_lapsed (hr:mm:ss) --> 00:00:02 , Progress:18.8%, completed 9 out of 48 items "
     ]
    },
    {
     "name": "stdout",
     "output_type": "stream",
     "text": [
      "\r Time_lapsed (hr:mm:ss) --> 00:00:03 , Progress:20.8%, completed 10 out of 48 items "
     ]
    },
    {
     "name": "stdout",
     "output_type": "stream",
     "text": [
      "\r Time_lapsed (hr:mm:ss) --> 00:00:03 , Progress:22.9%, completed 11 out of 48 items "
     ]
    },
    {
     "name": "stdout",
     "output_type": "stream",
     "text": [
      "\r Time_lapsed (hr:mm:ss) --> 00:00:03 , Progress:25.0%, completed 12 out of 48 items "
     ]
    },
    {
     "name": "stdout",
     "output_type": "stream",
     "text": [
      "\r Time_lapsed (hr:mm:ss) --> 00:00:03 , Progress:27.1%, completed 13 out of 48 items "
     ]
    },
    {
     "name": "stdout",
     "output_type": "stream",
     "text": [
      "\r Time_lapsed (hr:mm:ss) --> 00:00:04 , Progress:29.2%, completed 14 out of 48 items "
     ]
    },
    {
     "name": "stdout",
     "output_type": "stream",
     "text": [
      "\r Time_lapsed (hr:mm:ss) --> 00:00:04 , Progress:31.2%, completed 15 out of 48 items "
     ]
    },
    {
     "name": "stdout",
     "output_type": "stream",
     "text": [
      "\r Time_lapsed (hr:mm:ss) --> 00:00:04 , Progress:33.3%, completed 16 out of 48 items "
     ]
    },
    {
     "name": "stdout",
     "output_type": "stream",
     "text": [
      "\r Time_lapsed (hr:mm:ss) --> 00:00:04 , Progress:35.4%, completed 17 out of 48 items "
     ]
    },
    {
     "name": "stdout",
     "output_type": "stream",
     "text": [
      "\r Time_lapsed (hr:mm:ss) --> 00:00:05 , Progress:37.5%, completed 18 out of 48 items "
     ]
    },
    {
     "name": "stdout",
     "output_type": "stream",
     "text": [
      "\r Time_lapsed (hr:mm:ss) --> 00:00:05 , Progress:39.6%, completed 19 out of 48 items "
     ]
    },
    {
     "name": "stdout",
     "output_type": "stream",
     "text": [
      "\r Time_lapsed (hr:mm:ss) --> 00:00:05 , Progress:41.7%, completed 20 out of 48 items "
     ]
    },
    {
     "name": "stdout",
     "output_type": "stream",
     "text": [
      "\r Time_lapsed (hr:mm:ss) --> 00:00:06 , Progress:43.8%, completed 21 out of 48 items "
     ]
    },
    {
     "name": "stdout",
     "output_type": "stream",
     "text": [
      "\r Time_lapsed (hr:mm:ss) --> 00:00:06 , Progress:45.8%, completed 22 out of 48 items "
     ]
    },
    {
     "name": "stdout",
     "output_type": "stream",
     "text": [
      "\r Time_lapsed (hr:mm:ss) --> 00:00:06 , Progress:47.9%, completed 23 out of 48 items "
     ]
    },
    {
     "name": "stdout",
     "output_type": "stream",
     "text": [
      "\r Time_lapsed (hr:mm:ss) --> 00:00:06 , Progress:50.0%, completed 24 out of 48 items "
     ]
    },
    {
     "name": "stdout",
     "output_type": "stream",
     "text": [
      "\r Time_lapsed (hr:mm:ss) --> 00:00:06 , Progress:52.1%, completed 25 out of 48 items "
     ]
    },
    {
     "name": "stdout",
     "output_type": "stream",
     "text": [
      "\r Time_lapsed (hr:mm:ss) --> 00:00:07 , Progress:54.2%, completed 26 out of 48 items "
     ]
    },
    {
     "name": "stdout",
     "output_type": "stream",
     "text": [
      "\r Time_lapsed (hr:mm:ss) --> 00:00:07 , Progress:56.2%, completed 27 out of 48 items "
     ]
    },
    {
     "name": "stdout",
     "output_type": "stream",
     "text": [
      "\r Time_lapsed (hr:mm:ss) --> 00:00:08 , Progress:58.3%, completed 28 out of 48 items "
     ]
    },
    {
     "name": "stdout",
     "output_type": "stream",
     "text": [
      "\r Time_lapsed (hr:mm:ss) --> 00:00:08 , Progress:60.4%, completed 29 out of 48 items "
     ]
    },
    {
     "name": "stdout",
     "output_type": "stream",
     "text": [
      "\r Time_lapsed (hr:mm:ss) --> 00:00:08 , Progress:62.5%, completed 30 out of 48 items "
     ]
    },
    {
     "name": "stdout",
     "output_type": "stream",
     "text": [
      "\r Time_lapsed (hr:mm:ss) --> 00:00:08 , Progress:64.6%, completed 31 out of 48 items "
     ]
    },
    {
     "name": "stdout",
     "output_type": "stream",
     "text": [
      "\r Time_lapsed (hr:mm:ss) --> 00:00:09 , Progress:66.7%, completed 32 out of 48 items "
     ]
    },
    {
     "name": "stdout",
     "output_type": "stream",
     "text": [
      "\r Time_lapsed (hr:mm:ss) --> 00:00:10 , Progress:68.8%, completed 33 out of 48 items "
     ]
    },
    {
     "name": "stdout",
     "output_type": "stream",
     "text": [
      "\r Time_lapsed (hr:mm:ss) --> 00:00:11 , Progress:70.8%, completed 34 out of 48 items "
     ]
    },
    {
     "name": "stdout",
     "output_type": "stream",
     "text": [
      "\r Time_lapsed (hr:mm:ss) --> 00:00:11 , Progress:72.9%, completed 35 out of 48 items "
     ]
    },
    {
     "name": "stdout",
     "output_type": "stream",
     "text": [
      "\r Time_lapsed (hr:mm:ss) --> 00:00:11 , Progress:75.0%, completed 36 out of 48 items "
     ]
    },
    {
     "name": "stdout",
     "output_type": "stream",
     "text": [
      "\r Time_lapsed (hr:mm:ss) --> 00:00:12 , Progress:77.1%, completed 37 out of 48 items "
     ]
    },
    {
     "name": "stdout",
     "output_type": "stream",
     "text": [
      "\r Time_lapsed (hr:mm:ss) --> 00:00:12 , Progress:79.2%, completed 38 out of 48 items "
     ]
    },
    {
     "name": "stdout",
     "output_type": "stream",
     "text": [
      "\r Time_lapsed (hr:mm:ss) --> 00:00:12 , Progress:81.2%, completed 39 out of 48 items "
     ]
    },
    {
     "name": "stdout",
     "output_type": "stream",
     "text": [
      "\r Time_lapsed (hr:mm:ss) --> 00:00:12 , Progress:83.3%, completed 40 out of 48 items "
     ]
    },
    {
     "name": "stdout",
     "output_type": "stream",
     "text": [
      "\r Time_lapsed (hr:mm:ss) --> 00:00:12 , Progress:85.4%, completed 41 out of 48 items "
     ]
    },
    {
     "name": "stdout",
     "output_type": "stream",
     "text": [
      "\r Time_lapsed (hr:mm:ss) --> 00:00:13 , Progress:87.5%, completed 42 out of 48 items "
     ]
    },
    {
     "name": "stdout",
     "output_type": "stream",
     "text": [
      "\r Time_lapsed (hr:mm:ss) --> 00:00:13 , Progress:89.6%, completed 43 out of 48 items "
     ]
    },
    {
     "name": "stdout",
     "output_type": "stream",
     "text": [
      "\r Time_lapsed (hr:mm:ss) --> 00:00:13 , Progress:91.7%, completed 44 out of 48 items "
     ]
    },
    {
     "name": "stdout",
     "output_type": "stream",
     "text": [
      "\r Time_lapsed (hr:mm:ss) --> 00:00:13 , Progress:93.8%, completed 45 out of 48 items "
     ]
    },
    {
     "name": "stdout",
     "output_type": "stream",
     "text": [
      "\r Time_lapsed (hr:mm:ss) --> 00:00:14 , Progress:95.8%, completed 46 out of 48 items "
     ]
    },
    {
     "name": "stdout",
     "output_type": "stream",
     "text": [
      "\r Time_lapsed (hr:mm:ss) --> 00:00:14 , Progress:97.9%, completed 47 out of 48 items "
     ]
    },
    {
     "name": "stdout",
     "output_type": "stream",
     "text": [
      "\r Time_lapsed (hr:mm:ss) --> 00:00:14 , Progress:100.0%, completed 48 out of 48 items "
     ]
    }
   ],
   "source": [
    "mass_prd = []\n",
    "instant_mass = []\n",
    "sum_x = 0\n",
    "start = time.time()\n",
    "items = len(Log_name_d)\n",
    "for i, log in (enumerate(Log_name_d)):\n",
    "    for j, v in enumerate(Volume_d[i]):\n",
    "        x = (model_neg(np.float(v)) * Speed_d[i][j])\n",
    "        instant_mass.append(x)\n",
    "        sum_x += x\n",
    "    mass_prd.append([np.squeeze(sum_x.numpy()), np.array(instant_mass[0:len(instant_mass)]), Log_name_d[i]])\n",
    "    instant_mass.clear()\n",
    "    sum_x = 0\n",
    "    end = time.time() - start\n",
    "    print_progress(i+1, items, end)\n",
    "np.save(MAIN_dir+'Signals/instant_mass_prd_validate_named.npy', mass_prd)"
   ]
  },
  {
   "cell_type": "code",
   "execution_count": 46,
   "metadata": {},
   "outputs": [
    {
     "name": "stdout",
     "output_type": "stream",
     "text": [
      "\r Time_lapsed (hr:mm:ss) --> 00:00:00 , Progress:2.1%, completed 1 out of 48 items "
     ]
    },
    {
     "name": "stdout",
     "output_type": "stream",
     "text": [
      "\r Time_lapsed (hr:mm:ss) --> 00:00:00 , Progress:4.2%, completed 2 out of 48 items "
     ]
    },
    {
     "name": "stdout",
     "output_type": "stream",
     "text": [
      "\r Time_lapsed (hr:mm:ss) --> 00:00:00 , Progress:6.2%, completed 3 out of 48 items "
     ]
    },
    {
     "name": "stdout",
     "output_type": "stream",
     "text": [
      "\r Time_lapsed (hr:mm:ss) --> 00:00:00 , Progress:8.3%, completed 4 out of 48 items "
     ]
    },
    {
     "name": "stdout",
     "output_type": "stream",
     "text": [
      "\r Time_lapsed (hr:mm:ss) --> 00:00:01 , Progress:10.4%, completed 5 out of 48 items "
     ]
    },
    {
     "name": "stdout",
     "output_type": "stream",
     "text": [
      "\r Time_lapsed (hr:mm:ss) --> 00:00:01 , Progress:12.5%, completed 6 out of 48 items "
     ]
    },
    {
     "name": "stdout",
     "output_type": "stream",
     "text": [
      "\r Time_lapsed (hr:mm:ss) --> 00:00:02 , Progress:14.6%, completed 7 out of 48 items "
     ]
    },
    {
     "name": "stdout",
     "output_type": "stream",
     "text": [
      "\r Time_lapsed (hr:mm:ss) --> 00:00:02 , Progress:16.7%, completed 8 out of 48 items "
     ]
    },
    {
     "name": "stdout",
     "output_type": "stream",
     "text": [
      "\r Time_lapsed (hr:mm:ss) --> 00:00:02 , Progress:18.8%, completed 9 out of 48 items "
     ]
    },
    {
     "name": "stdout",
     "output_type": "stream",
     "text": [
      "\r Time_lapsed (hr:mm:ss) --> 00:00:02 , Progress:20.8%, completed 10 out of 48 items "
     ]
    },
    {
     "name": "stdout",
     "output_type": "stream",
     "text": [
      "\r Time_lapsed (hr:mm:ss) --> 00:00:03 , Progress:22.9%, completed 11 out of 48 items "
     ]
    },
    {
     "name": "stdout",
     "output_type": "stream",
     "text": [
      "\r Time_lapsed (hr:mm:ss) --> 00:00:03 , Progress:25.0%, completed 12 out of 48 items "
     ]
    },
    {
     "name": "stdout",
     "output_type": "stream",
     "text": [
      "\r Time_lapsed (hr:mm:ss) --> 00:00:04 , Progress:27.1%, completed 13 out of 48 items "
     ]
    },
    {
     "name": "stdout",
     "output_type": "stream",
     "text": [
      "\r Time_lapsed (hr:mm:ss) --> 00:00:04 , Progress:29.2%, completed 14 out of 48 items "
     ]
    },
    {
     "name": "stdout",
     "output_type": "stream",
     "text": [
      "\r Time_lapsed (hr:mm:ss) --> 00:00:04 , Progress:31.2%, completed 15 out of 48 items "
     ]
    },
    {
     "name": "stdout",
     "output_type": "stream",
     "text": [
      "\r Time_lapsed (hr:mm:ss) --> 00:00:05 , Progress:33.3%, completed 16 out of 48 items "
     ]
    },
    {
     "name": "stdout",
     "output_type": "stream",
     "text": [
      "\r Time_lapsed (hr:mm:ss) --> 00:00:05 , Progress:35.4%, completed 17 out of 48 items "
     ]
    },
    {
     "name": "stdout",
     "output_type": "stream",
     "text": [
      "\r Time_lapsed (hr:mm:ss) --> 00:00:05 , Progress:37.5%, completed 18 out of 48 items "
     ]
    },
    {
     "name": "stdout",
     "output_type": "stream",
     "text": [
      "\r Time_lapsed (hr:mm:ss) --> 00:00:05 , Progress:39.6%, completed 19 out of 48 items "
     ]
    },
    {
     "name": "stdout",
     "output_type": "stream",
     "text": [
      "\r Time_lapsed (hr:mm:ss) --> 00:00:05 , Progress:41.7%, completed 20 out of 48 items "
     ]
    },
    {
     "name": "stdout",
     "output_type": "stream",
     "text": [
      "\r Time_lapsed (hr:mm:ss) --> 00:00:05 , Progress:43.8%, completed 21 out of 48 items "
     ]
    },
    {
     "name": "stdout",
     "output_type": "stream",
     "text": [
      "\r Time_lapsed (hr:mm:ss) --> 00:00:06 , Progress:45.8%, completed 22 out of 48 items "
     ]
    },
    {
     "name": "stdout",
     "output_type": "stream",
     "text": [
      "\r Time_lapsed (hr:mm:ss) --> 00:00:06 , Progress:47.9%, completed 23 out of 48 items "
     ]
    },
    {
     "name": "stdout",
     "output_type": "stream",
     "text": [
      "\r Time_lapsed (hr:mm:ss) --> 00:00:06 , Progress:50.0%, completed 24 out of 48 items "
     ]
    },
    {
     "name": "stdout",
     "output_type": "stream",
     "text": [
      "\r Time_lapsed (hr:mm:ss) --> 00:00:06 , Progress:52.1%, completed 25 out of 48 items "
     ]
    },
    {
     "name": "stdout",
     "output_type": "stream",
     "text": [
      "\r Time_lapsed (hr:mm:ss) --> 00:00:07 , Progress:54.2%, completed 26 out of 48 items "
     ]
    },
    {
     "name": "stdout",
     "output_type": "stream",
     "text": [
      "\r Time_lapsed (hr:mm:ss) --> 00:00:07 , Progress:56.2%, completed 27 out of 48 items "
     ]
    },
    {
     "name": "stdout",
     "output_type": "stream",
     "text": [
      "\r Time_lapsed (hr:mm:ss) --> 00:00:07 , Progress:58.3%, completed 28 out of 48 items "
     ]
    },
    {
     "name": "stdout",
     "output_type": "stream",
     "text": [
      "\r Time_lapsed (hr:mm:ss) --> 00:00:07 , Progress:60.4%, completed 29 out of 48 items "
     ]
    },
    {
     "name": "stdout",
     "output_type": "stream",
     "text": [
      "\r Time_lapsed (hr:mm:ss) --> 00:00:08 , Progress:62.5%, completed 30 out of 48 items "
     ]
    },
    {
     "name": "stdout",
     "output_type": "stream",
     "text": [
      "\r Time_lapsed (hr:mm:ss) --> 00:00:08 , Progress:64.6%, completed 31 out of 48 items "
     ]
    },
    {
     "name": "stdout",
     "output_type": "stream",
     "text": [
      "\r Time_lapsed (hr:mm:ss) --> 00:00:08 , Progress:66.7%, completed 32 out of 48 items "
     ]
    },
    {
     "name": "stdout",
     "output_type": "stream",
     "text": [
      "\r Time_lapsed (hr:mm:ss) --> 00:00:08 , Progress:68.8%, completed 33 out of 48 items "
     ]
    },
    {
     "name": "stdout",
     "output_type": "stream",
     "text": [
      "\r Time_lapsed (hr:mm:ss) --> 00:00:08 , Progress:70.8%, completed 34 out of 48 items "
     ]
    },
    {
     "name": "stdout",
     "output_type": "stream",
     "text": [
      "\r Time_lapsed (hr:mm:ss) --> 00:00:09 , Progress:72.9%, completed 35 out of 48 items "
     ]
    },
    {
     "name": "stdout",
     "output_type": "stream",
     "text": [
      "\r Time_lapsed (hr:mm:ss) --> 00:00:09 , Progress:75.0%, completed 36 out of 48 items "
     ]
    },
    {
     "name": "stdout",
     "output_type": "stream",
     "text": [
      "\r Time_lapsed (hr:mm:ss) --> 00:00:09 , Progress:77.1%, completed 37 out of 48 items "
     ]
    },
    {
     "name": "stdout",
     "output_type": "stream",
     "text": [
      "\r Time_lapsed (hr:mm:ss) --> 00:00:10 , Progress:79.2%, completed 38 out of 48 items "
     ]
    },
    {
     "name": "stdout",
     "output_type": "stream",
     "text": [
      "\r Time_lapsed (hr:mm:ss) --> 00:00:10 , Progress:81.2%, completed 39 out of 48 items "
     ]
    },
    {
     "name": "stdout",
     "output_type": "stream",
     "text": [
      "\r Time_lapsed (hr:mm:ss) --> 00:00:10 , Progress:83.3%, completed 40 out of 48 items "
     ]
    },
    {
     "name": "stdout",
     "output_type": "stream",
     "text": [
      "\r Time_lapsed (hr:mm:ss) --> 00:00:10 , Progress:85.4%, completed 41 out of 48 items "
     ]
    },
    {
     "name": "stdout",
     "output_type": "stream",
     "text": [
      "\r Time_lapsed (hr:mm:ss) --> 00:00:10 , Progress:87.5%, completed 42 out of 48 items "
     ]
    },
    {
     "name": "stdout",
     "output_type": "stream",
     "text": [
      "\r Time_lapsed (hr:mm:ss) --> 00:00:10 , Progress:89.6%, completed 43 out of 48 items "
     ]
    },
    {
     "name": "stdout",
     "output_type": "stream",
     "text": [
      "\r Time_lapsed (hr:mm:ss) --> 00:00:10 , Progress:91.7%, completed 44 out of 48 items "
     ]
    },
    {
     "name": "stdout",
     "output_type": "stream",
     "text": [
      "\r Time_lapsed (hr:mm:ss) --> 00:00:11 , Progress:93.8%, completed 45 out of 48 items "
     ]
    },
    {
     "name": "stdout",
     "output_type": "stream",
     "text": [
      "\r Time_lapsed (hr:mm:ss) --> 00:00:11 , Progress:95.8%, completed 46 out of 48 items "
     ]
    },
    {
     "name": "stdout",
     "output_type": "stream",
     "text": [
      "\r Time_lapsed (hr:mm:ss) --> 00:00:11 , Progress:97.9%, completed 47 out of 48 items "
     ]
    },
    {
     "name": "stdout",
     "output_type": "stream",
     "text": [
      "\r Time_lapsed (hr:mm:ss) --> 00:00:11 , Progress:100.0%, completed 48 out of 48 items "
     ]
    }
   ],
   "source": [
    "mass_prd = []\n",
    "instant_mass = []\n",
    "sum_x = 0\n",
    "start = time.time()\n",
    "items = len(Log_name_t)\n",
    "for i, log in (enumerate(Log_name_t)):\n",
    "    for j, v in enumerate(Volume_t[i]):\n",
    "        x = (model_neg(np.float(v)) * Speed_t[i][j])\n",
    "        instant_mass.append(x)\n",
    "        sum_x += x\n",
    "    mass_prd.append([np.squeeze(sum_x.numpy()), np.array(instant_mass[0:len(instant_mass)]), Log_name_t[i]])\n",
    "    instant_mass.clear()\n",
    "    sum_x = 0\n",
    "    end = time.time() - start\n",
    "    print_progress(i+1, items, end)\n",
    "np.save(MAIN_dir+'Signals/instant_mass_prd_test_named.npy', mass_prd)"
   ]
  },
  {
   "cell_type": "code",
   "execution_count": 45,
   "metadata": {},
   "outputs": [
    {
     "name": "stdout",
     "output_type": "stream",
     "text": [
      "\r Time_lapsed (hr:mm:ss) --> 00:00:00 , Progress:0.7%, completed 1 out of 143 items "
     ]
    },
    {
     "name": "stdout",
     "output_type": "stream",
     "text": [
      "\r Time_lapsed (hr:mm:ss) --> 00:00:00 , Progress:1.4%, completed 2 out of 143 items "
     ]
    },
    {
     "name": "stdout",
     "output_type": "stream",
     "text": [
      "\r Time_lapsed (hr:mm:ss) --> 00:00:01 , Progress:2.1%, completed 3 out of 143 items "
     ]
    },
    {
     "name": "stdout",
     "output_type": "stream",
     "text": [
      "\r Time_lapsed (hr:mm:ss) --> 00:00:01 , Progress:2.8%, completed 4 out of 143 items "
     ]
    },
    {
     "name": "stdout",
     "output_type": "stream",
     "text": [
      "\r Time_lapsed (hr:mm:ss) --> 00:00:01 , Progress:3.5%, completed 5 out of 143 items "
     ]
    },
    {
     "name": "stdout",
     "output_type": "stream",
     "text": [
      "\r Time_lapsed (hr:mm:ss) --> 00:00:02 , Progress:4.2%, completed 6 out of 143 items "
     ]
    },
    {
     "name": "stdout",
     "output_type": "stream",
     "text": [
      "\r Time_lapsed (hr:mm:ss) --> 00:00:02 , Progress:4.9%, completed 7 out of 143 items "
     ]
    },
    {
     "name": "stdout",
     "output_type": "stream",
     "text": [
      "\r Time_lapsed (hr:mm:ss) --> 00:00:02 , Progress:5.6%, completed 8 out of 143 items "
     ]
    },
    {
     "name": "stdout",
     "output_type": "stream",
     "text": [
      "\r Time_lapsed (hr:mm:ss) --> 00:00:02 , Progress:6.3%, completed 9 out of 143 items "
     ]
    },
    {
     "name": "stdout",
     "output_type": "stream",
     "text": [
      "\r Time_lapsed (hr:mm:ss) --> 00:00:03 , Progress:7.0%, completed 10 out of 143 items "
     ]
    },
    {
     "name": "stdout",
     "output_type": "stream",
     "text": [
      "\r Time_lapsed (hr:mm:ss) --> 00:00:03 , Progress:7.7%, completed 11 out of 143 items "
     ]
    },
    {
     "name": "stdout",
     "output_type": "stream",
     "text": [
      "\r Time_lapsed (hr:mm:ss) --> 00:00:03 , Progress:8.4%, completed 12 out of 143 items "
     ]
    },
    {
     "name": "stdout",
     "output_type": "stream",
     "text": [
      "\r Time_lapsed (hr:mm:ss) --> 00:00:03 , Progress:9.1%, completed 13 out of 143 items "
     ]
    },
    {
     "name": "stdout",
     "output_type": "stream",
     "text": [
      "\r Time_lapsed (hr:mm:ss) --> 00:00:03 , Progress:9.8%, completed 14 out of 143 items "
     ]
    },
    {
     "name": "stdout",
     "output_type": "stream",
     "text": [
      "\r Time_lapsed (hr:mm:ss) --> 00:00:03 , Progress:10.5%, completed 15 out of 143 items "
     ]
    },
    {
     "name": "stdout",
     "output_type": "stream",
     "text": [
      "\r Time_lapsed (hr:mm:ss) --> 00:00:04 , Progress:11.2%, completed 16 out of 143 items "
     ]
    },
    {
     "name": "stdout",
     "output_type": "stream",
     "text": [
      "\r Time_lapsed (hr:mm:ss) --> 00:00:04 , Progress:11.9%, completed 17 out of 143 items "
     ]
    },
    {
     "name": "stdout",
     "output_type": "stream",
     "text": [
      "\r Time_lapsed (hr:mm:ss) --> 00:00:04 , Progress:12.6%, completed 18 out of 143 items "
     ]
    },
    {
     "name": "stdout",
     "output_type": "stream",
     "text": [
      "\r Time_lapsed (hr:mm:ss) --> 00:00:04 , Progress:13.3%, completed 19 out of 143 items "
     ]
    },
    {
     "name": "stdout",
     "output_type": "stream",
     "text": [
      "\r Time_lapsed (hr:mm:ss) --> 00:00:05 , Progress:14.0%, completed 20 out of 143 items "
     ]
    },
    {
     "name": "stdout",
     "output_type": "stream",
     "text": [
      "\r Time_lapsed (hr:mm:ss) --> 00:00:05 , Progress:14.7%, completed 21 out of 143 items "
     ]
    },
    {
     "name": "stdout",
     "output_type": "stream",
     "text": [
      "\r Time_lapsed (hr:mm:ss) --> 00:00:05 , Progress:15.4%, completed 22 out of 143 items "
     ]
    },
    {
     "name": "stdout",
     "output_type": "stream",
     "text": [
      "\r Time_lapsed (hr:mm:ss) --> 00:00:05 , Progress:16.1%, completed 23 out of 143 items "
     ]
    },
    {
     "name": "stdout",
     "output_type": "stream",
     "text": [
      "\r Time_lapsed (hr:mm:ss) --> 00:00:06 , Progress:16.8%, completed 24 out of 143 items "
     ]
    },
    {
     "name": "stdout",
     "output_type": "stream",
     "text": [
      "\r Time_lapsed (hr:mm:ss) --> 00:00:06 , Progress:17.5%, completed 25 out of 143 items "
     ]
    },
    {
     "name": "stdout",
     "output_type": "stream",
     "text": [
      "\r Time_lapsed (hr:mm:ss) --> 00:00:06 , Progress:18.2%, completed 26 out of 143 items "
     ]
    },
    {
     "name": "stdout",
     "output_type": "stream",
     "text": [
      "\r Time_lapsed (hr:mm:ss) --> 00:00:07 , Progress:18.9%, completed 27 out of 143 items "
     ]
    },
    {
     "name": "stdout",
     "output_type": "stream",
     "text": [
      "\r Time_lapsed (hr:mm:ss) --> 00:00:07 , Progress:19.6%, completed 28 out of 143 items "
     ]
    },
    {
     "name": "stdout",
     "output_type": "stream",
     "text": [
      "\r Time_lapsed (hr:mm:ss) --> 00:00:07 , Progress:20.3%, completed 29 out of 143 items "
     ]
    },
    {
     "name": "stdout",
     "output_type": "stream",
     "text": [
      "\r Time_lapsed (hr:mm:ss) --> 00:00:07 , Progress:21.0%, completed 30 out of 143 items "
     ]
    },
    {
     "name": "stdout",
     "output_type": "stream",
     "text": [
      "\r Time_lapsed (hr:mm:ss) --> 00:00:08 , Progress:21.7%, completed 31 out of 143 items "
     ]
    },
    {
     "name": "stdout",
     "output_type": "stream",
     "text": [
      "\r Time_lapsed (hr:mm:ss) --> 00:00:08 , Progress:22.4%, completed 32 out of 143 items "
     ]
    },
    {
     "name": "stdout",
     "output_type": "stream",
     "text": [
      "\r Time_lapsed (hr:mm:ss) --> 00:00:08 , Progress:23.1%, completed 33 out of 143 items "
     ]
    },
    {
     "name": "stdout",
     "output_type": "stream",
     "text": [
      "\r Time_lapsed (hr:mm:ss) --> 00:00:08 , Progress:23.8%, completed 34 out of 143 items "
     ]
    },
    {
     "name": "stdout",
     "output_type": "stream",
     "text": [
      "\r Time_lapsed (hr:mm:ss) --> 00:00:09 , Progress:24.5%, completed 35 out of 143 items "
     ]
    },
    {
     "name": "stdout",
     "output_type": "stream",
     "text": [
      "\r Time_lapsed (hr:mm:ss) --> 00:00:09 , Progress:25.2%, completed 36 out of 143 items "
     ]
    },
    {
     "name": "stdout",
     "output_type": "stream",
     "text": [
      "\r Time_lapsed (hr:mm:ss) --> 00:00:09 , Progress:25.9%, completed 37 out of 143 items "
     ]
    },
    {
     "name": "stdout",
     "output_type": "stream",
     "text": [
      "\r Time_lapsed (hr:mm:ss) --> 00:00:10 , Progress:26.6%, completed 38 out of 143 items "
     ]
    },
    {
     "name": "stdout",
     "output_type": "stream",
     "text": [
      "\r Time_lapsed (hr:mm:ss) --> 00:00:10 , Progress:27.3%, completed 39 out of 143 items "
     ]
    },
    {
     "name": "stdout",
     "output_type": "stream",
     "text": [
      "\r Time_lapsed (hr:mm:ss) --> 00:00:10 , Progress:28.0%, completed 40 out of 143 items "
     ]
    },
    {
     "name": "stdout",
     "output_type": "stream",
     "text": [
      "\r Time_lapsed (hr:mm:ss) --> 00:00:10 , Progress:28.7%, completed 41 out of 143 items "
     ]
    },
    {
     "name": "stdout",
     "output_type": "stream",
     "text": [
      "\r Time_lapsed (hr:mm:ss) --> 00:00:11 , Progress:29.4%, completed 42 out of 143 items "
     ]
    },
    {
     "name": "stdout",
     "output_type": "stream",
     "text": [
      "\r Time_lapsed (hr:mm:ss) --> 00:00:11 , Progress:30.1%, completed 43 out of 143 items "
     ]
    },
    {
     "name": "stdout",
     "output_type": "stream",
     "text": [
      "\r Time_lapsed (hr:mm:ss) --> 00:00:11 , Progress:30.8%, completed 44 out of 143 items "
     ]
    },
    {
     "name": "stdout",
     "output_type": "stream",
     "text": [
      "\r Time_lapsed (hr:mm:ss) --> 00:00:11 , Progress:31.5%, completed 45 out of 143 items "
     ]
    },
    {
     "name": "stdout",
     "output_type": "stream",
     "text": [
      "\r Time_lapsed (hr:mm:ss) --> 00:00:11 , Progress:32.2%, completed 46 out of 143 items "
     ]
    },
    {
     "name": "stdout",
     "output_type": "stream",
     "text": [
      "\r Time_lapsed (hr:mm:ss) --> 00:00:12 , Progress:32.9%, completed 47 out of 143 items "
     ]
    },
    {
     "name": "stdout",
     "output_type": "stream",
     "text": [
      "\r Time_lapsed (hr:mm:ss) --> 00:00:12 , Progress:33.6%, completed 48 out of 143 items "
     ]
    },
    {
     "name": "stdout",
     "output_type": "stream",
     "text": [
      "\r Time_lapsed (hr:mm:ss) --> 00:00:12 , Progress:34.3%, completed 49 out of 143 items "
     ]
    },
    {
     "name": "stdout",
     "output_type": "stream",
     "text": [
      "\r Time_lapsed (hr:mm:ss) --> 00:00:13 , Progress:35.0%, completed 50 out of 143 items "
     ]
    },
    {
     "name": "stdout",
     "output_type": "stream",
     "text": [
      "\r Time_lapsed (hr:mm:ss) --> 00:00:13 , Progress:35.7%, completed 51 out of 143 items "
     ]
    },
    {
     "name": "stdout",
     "output_type": "stream",
     "text": [
      "\r Time_lapsed (hr:mm:ss) --> 00:00:13 , Progress:36.4%, completed 52 out of 143 items "
     ]
    },
    {
     "name": "stdout",
     "output_type": "stream",
     "text": [
      "\r Time_lapsed (hr:mm:ss) --> 00:00:13 , Progress:37.1%, completed 53 out of 143 items "
     ]
    },
    {
     "name": "stdout",
     "output_type": "stream",
     "text": [
      "\r Time_lapsed (hr:mm:ss) --> 00:00:14 , Progress:37.8%, completed 54 out of 143 items "
     ]
    },
    {
     "name": "stdout",
     "output_type": "stream",
     "text": [
      "\r Time_lapsed (hr:mm:ss) --> 00:00:14 , Progress:38.5%, completed 55 out of 143 items "
     ]
    },
    {
     "name": "stdout",
     "output_type": "stream",
     "text": [
      "\r Time_lapsed (hr:mm:ss) --> 00:00:14 , Progress:39.2%, completed 56 out of 143 items "
     ]
    },
    {
     "name": "stdout",
     "output_type": "stream",
     "text": [
      "\r Time_lapsed (hr:mm:ss) --> 00:00:16 , Progress:39.9%, completed 57 out of 143 items "
     ]
    },
    {
     "name": "stdout",
     "output_type": "stream",
     "text": [
      "\r Time_lapsed (hr:mm:ss) --> 00:00:17 , Progress:40.6%, completed 58 out of 143 items "
     ]
    },
    {
     "name": "stdout",
     "output_type": "stream",
     "text": [
      "\r Time_lapsed (hr:mm:ss) --> 00:00:17 , Progress:41.3%, completed 59 out of 143 items "
     ]
    },
    {
     "name": "stdout",
     "output_type": "stream",
     "text": [
      "\r Time_lapsed (hr:mm:ss) --> 00:00:17 , Progress:42.0%, completed 60 out of 143 items "
     ]
    },
    {
     "name": "stdout",
     "output_type": "stream",
     "text": [
      "\r Time_lapsed (hr:mm:ss) --> 00:00:17 , Progress:42.7%, completed 61 out of 143 items "
     ]
    },
    {
     "name": "stdout",
     "output_type": "stream",
     "text": [
      "\r Time_lapsed (hr:mm:ss) --> 00:00:17 , Progress:43.4%, completed 62 out of 143 items "
     ]
    },
    {
     "name": "stdout",
     "output_type": "stream",
     "text": [
      "\r Time_lapsed (hr:mm:ss) --> 00:00:18 , Progress:44.1%, completed 63 out of 143 items "
     ]
    },
    {
     "name": "stdout",
     "output_type": "stream",
     "text": [
      "\r Time_lapsed (hr:mm:ss) --> 00:00:18 , Progress:44.8%, completed 64 out of 143 items "
     ]
    },
    {
     "name": "stdout",
     "output_type": "stream",
     "text": [
      "\r Time_lapsed (hr:mm:ss) --> 00:00:18 , Progress:45.5%, completed 65 out of 143 items "
     ]
    },
    {
     "name": "stdout",
     "output_type": "stream",
     "text": [
      "\r Time_lapsed (hr:mm:ss) --> 00:00:19 , Progress:46.2%, completed 66 out of 143 items "
     ]
    },
    {
     "name": "stdout",
     "output_type": "stream",
     "text": [
      "\r Time_lapsed (hr:mm:ss) --> 00:00:19 , Progress:46.9%, completed 67 out of 143 items "
     ]
    },
    {
     "name": "stdout",
     "output_type": "stream",
     "text": [
      "\r Time_lapsed (hr:mm:ss) --> 00:00:19 , Progress:47.6%, completed 68 out of 143 items "
     ]
    },
    {
     "name": "stdout",
     "output_type": "stream",
     "text": [
      "\r Time_lapsed (hr:mm:ss) --> 00:00:19 , Progress:48.3%, completed 69 out of 143 items "
     ]
    },
    {
     "name": "stdout",
     "output_type": "stream",
     "text": [
      "\r Time_lapsed (hr:mm:ss) --> 00:00:20 , Progress:49.0%, completed 70 out of 143 items "
     ]
    },
    {
     "name": "stdout",
     "output_type": "stream",
     "text": [
      "\r Time_lapsed (hr:mm:ss) --> 00:00:20 , Progress:49.7%, completed 71 out of 143 items "
     ]
    },
    {
     "name": "stdout",
     "output_type": "stream",
     "text": [
      "\r Time_lapsed (hr:mm:ss) --> 00:00:20 , Progress:50.3%, completed 72 out of 143 items "
     ]
    },
    {
     "name": "stdout",
     "output_type": "stream",
     "text": [
      "\r Time_lapsed (hr:mm:ss) --> 00:00:21 , Progress:51.0%, completed 73 out of 143 items "
     ]
    },
    {
     "name": "stdout",
     "output_type": "stream",
     "text": [
      "\r Time_lapsed (hr:mm:ss) --> 00:00:21 , Progress:51.7%, completed 74 out of 143 items "
     ]
    },
    {
     "name": "stdout",
     "output_type": "stream",
     "text": [
      "\r Time_lapsed (hr:mm:ss) --> 00:00:21 , Progress:52.4%, completed 75 out of 143 items "
     ]
    },
    {
     "name": "stdout",
     "output_type": "stream",
     "text": [
      "\r Time_lapsed (hr:mm:ss) --> 00:00:21 , Progress:53.1%, completed 76 out of 143 items "
     ]
    },
    {
     "name": "stdout",
     "output_type": "stream",
     "text": [
      "\r Time_lapsed (hr:mm:ss) --> 00:00:21 , Progress:53.8%, completed 77 out of 143 items "
     ]
    },
    {
     "name": "stdout",
     "output_type": "stream",
     "text": [
      "\r Time_lapsed (hr:mm:ss) --> 00:00:22 , Progress:54.5%, completed 78 out of 143 items "
     ]
    },
    {
     "name": "stdout",
     "output_type": "stream",
     "text": [
      "\r Time_lapsed (hr:mm:ss) --> 00:00:22 , Progress:55.2%, completed 79 out of 143 items "
     ]
    },
    {
     "name": "stdout",
     "output_type": "stream",
     "text": [
      "\r Time_lapsed (hr:mm:ss) --> 00:00:22 , Progress:55.9%, completed 80 out of 143 items "
     ]
    },
    {
     "name": "stdout",
     "output_type": "stream",
     "text": [
      "\r Time_lapsed (hr:mm:ss) --> 00:00:22 , Progress:56.6%, completed 81 out of 143 items "
     ]
    },
    {
     "name": "stdout",
     "output_type": "stream",
     "text": [
      "\r Time_lapsed (hr:mm:ss) --> 00:00:23 , Progress:57.3%, completed 82 out of 143 items "
     ]
    },
    {
     "name": "stdout",
     "output_type": "stream",
     "text": [
      "\r Time_lapsed (hr:mm:ss) --> 00:00:23 , Progress:58.0%, completed 83 out of 143 items "
     ]
    },
    {
     "name": "stdout",
     "output_type": "stream",
     "text": [
      "\r Time_lapsed (hr:mm:ss) --> 00:00:23 , Progress:58.7%, completed 84 out of 143 items "
     ]
    },
    {
     "name": "stdout",
     "output_type": "stream",
     "text": [
      "\r Time_lapsed (hr:mm:ss) --> 00:00:23 , Progress:59.4%, completed 85 out of 143 items "
     ]
    },
    {
     "name": "stdout",
     "output_type": "stream",
     "text": [
      "\r Time_lapsed (hr:mm:ss) --> 00:00:24 , Progress:60.1%, completed 86 out of 143 items "
     ]
    },
    {
     "name": "stdout",
     "output_type": "stream",
     "text": [
      "\r Time_lapsed (hr:mm:ss) --> 00:00:24 , Progress:60.8%, completed 87 out of 143 items "
     ]
    },
    {
     "name": "stdout",
     "output_type": "stream",
     "text": [
      "\r Time_lapsed (hr:mm:ss) --> 00:00:24 , Progress:61.5%, completed 88 out of 143 items "
     ]
    },
    {
     "name": "stdout",
     "output_type": "stream",
     "text": [
      "\r Time_lapsed (hr:mm:ss) --> 00:00:24 , Progress:62.2%, completed 89 out of 143 items "
     ]
    },
    {
     "name": "stdout",
     "output_type": "stream",
     "text": [
      "\r Time_lapsed (hr:mm:ss) --> 00:00:24 , Progress:62.9%, completed 90 out of 143 items "
     ]
    },
    {
     "name": "stdout",
     "output_type": "stream",
     "text": [
      "\r Time_lapsed (hr:mm:ss) --> 00:00:25 , Progress:63.6%, completed 91 out of 143 items "
     ]
    },
    {
     "name": "stdout",
     "output_type": "stream",
     "text": [
      "\r Time_lapsed (hr:mm:ss) --> 00:00:25 , Progress:64.3%, completed 92 out of 143 items "
     ]
    },
    {
     "name": "stdout",
     "output_type": "stream",
     "text": [
      "\r Time_lapsed (hr:mm:ss) --> 00:00:25 , Progress:65.0%, completed 93 out of 143 items "
     ]
    },
    {
     "name": "stdout",
     "output_type": "stream",
     "text": [
      "\r Time_lapsed (hr:mm:ss) --> 00:00:26 , Progress:65.7%, completed 94 out of 143 items "
     ]
    },
    {
     "name": "stdout",
     "output_type": "stream",
     "text": [
      "\r Time_lapsed (hr:mm:ss) --> 00:00:26 , Progress:66.4%, completed 95 out of 143 items "
     ]
    },
    {
     "name": "stdout",
     "output_type": "stream",
     "text": [
      "\r Time_lapsed (hr:mm:ss) --> 00:00:26 , Progress:67.1%, completed 96 out of 143 items "
     ]
    },
    {
     "name": "stdout",
     "output_type": "stream",
     "text": [
      "\r Time_lapsed (hr:mm:ss) --> 00:00:26 , Progress:67.8%, completed 97 out of 143 items "
     ]
    },
    {
     "name": "stdout",
     "output_type": "stream",
     "text": [
      "\r Time_lapsed (hr:mm:ss) --> 00:00:26 , Progress:68.5%, completed 98 out of 143 items "
     ]
    },
    {
     "name": "stdout",
     "output_type": "stream",
     "text": [
      "\r Time_lapsed (hr:mm:ss) --> 00:00:27 , Progress:69.2%, completed 99 out of 143 items "
     ]
    },
    {
     "name": "stdout",
     "output_type": "stream",
     "text": [
      "\r Time_lapsed (hr:mm:ss) --> 00:00:27 , Progress:69.9%, completed 100 out of 143 items "
     ]
    },
    {
     "name": "stdout",
     "output_type": "stream",
     "text": [
      "\r Time_lapsed (hr:mm:ss) --> 00:00:28 , Progress:70.6%, completed 101 out of 143 items "
     ]
    },
    {
     "name": "stdout",
     "output_type": "stream",
     "text": [
      "\r Time_lapsed (hr:mm:ss) --> 00:00:28 , Progress:71.3%, completed 102 out of 143 items "
     ]
    },
    {
     "name": "stdout",
     "output_type": "stream",
     "text": [
      "\r Time_lapsed (hr:mm:ss) --> 00:00:28 , Progress:72.0%, completed 103 out of 143 items "
     ]
    },
    {
     "name": "stdout",
     "output_type": "stream",
     "text": [
      "\r Time_lapsed (hr:mm:ss) --> 00:00:29 , Progress:72.7%, completed 104 out of 143 items "
     ]
    },
    {
     "name": "stdout",
     "output_type": "stream",
     "text": [
      "\r Time_lapsed (hr:mm:ss) --> 00:00:29 , Progress:73.4%, completed 105 out of 143 items "
     ]
    },
    {
     "name": "stdout",
     "output_type": "stream",
     "text": [
      "\r Time_lapsed (hr:mm:ss) --> 00:00:29 , Progress:74.1%, completed 106 out of 143 items "
     ]
    },
    {
     "name": "stdout",
     "output_type": "stream",
     "text": [
      "\r Time_lapsed (hr:mm:ss) --> 00:00:29 , Progress:74.8%, completed 107 out of 143 items "
     ]
    },
    {
     "name": "stdout",
     "output_type": "stream",
     "text": [
      "\r Time_lapsed (hr:mm:ss) --> 00:00:30 , Progress:75.5%, completed 108 out of 143 items "
     ]
    },
    {
     "name": "stdout",
     "output_type": "stream",
     "text": [
      "\r Time_lapsed (hr:mm:ss) --> 00:00:30 , Progress:76.2%, completed 109 out of 143 items "
     ]
    },
    {
     "name": "stdout",
     "output_type": "stream",
     "text": [
      "\r Time_lapsed (hr:mm:ss) --> 00:00:30 , Progress:76.9%, completed 110 out of 143 items "
     ]
    },
    {
     "name": "stdout",
     "output_type": "stream",
     "text": [
      "\r Time_lapsed (hr:mm:ss) --> 00:00:30 , Progress:77.6%, completed 111 out of 143 items "
     ]
    },
    {
     "name": "stdout",
     "output_type": "stream",
     "text": [
      "\r Time_lapsed (hr:mm:ss) --> 00:00:30 , Progress:78.3%, completed 112 out of 143 items "
     ]
    },
    {
     "name": "stdout",
     "output_type": "stream",
     "text": [
      "\r Time_lapsed (hr:mm:ss) --> 00:00:31 , Progress:79.0%, completed 113 out of 143 items "
     ]
    },
    {
     "name": "stdout",
     "output_type": "stream",
     "text": [
      "\r Time_lapsed (hr:mm:ss) --> 00:00:31 , Progress:79.7%, completed 114 out of 143 items "
     ]
    },
    {
     "name": "stdout",
     "output_type": "stream",
     "text": [
      "\r Time_lapsed (hr:mm:ss) --> 00:00:31 , Progress:80.4%, completed 115 out of 143 items "
     ]
    },
    {
     "name": "stdout",
     "output_type": "stream",
     "text": [
      "\r Time_lapsed (hr:mm:ss) --> 00:00:32 , Progress:81.1%, completed 116 out of 143 items "
     ]
    },
    {
     "name": "stdout",
     "output_type": "stream",
     "text": [
      "\r Time_lapsed (hr:mm:ss) --> 00:00:32 , Progress:81.8%, completed 117 out of 143 items "
     ]
    },
    {
     "name": "stdout",
     "output_type": "stream",
     "text": [
      "\r Time_lapsed (hr:mm:ss) --> 00:00:32 , Progress:82.5%, completed 118 out of 143 items "
     ]
    },
    {
     "name": "stdout",
     "output_type": "stream",
     "text": [
      "\r Time_lapsed (hr:mm:ss) --> 00:00:32 , Progress:83.2%, completed 119 out of 143 items "
     ]
    },
    {
     "name": "stdout",
     "output_type": "stream",
     "text": [
      "\r Time_lapsed (hr:mm:ss) --> 00:00:32 , Progress:83.9%, completed 120 out of 143 items "
     ]
    },
    {
     "name": "stdout",
     "output_type": "stream",
     "text": [
      "\r Time_lapsed (hr:mm:ss) --> 00:00:33 , Progress:84.6%, completed 121 out of 143 items "
     ]
    },
    {
     "name": "stdout",
     "output_type": "stream",
     "text": [
      "\r Time_lapsed (hr:mm:ss) --> 00:00:33 , Progress:85.3%, completed 122 out of 143 items "
     ]
    },
    {
     "name": "stdout",
     "output_type": "stream",
     "text": [
      "\r Time_lapsed (hr:mm:ss) --> 00:00:33 , Progress:86.0%, completed 123 out of 143 items "
     ]
    },
    {
     "name": "stdout",
     "output_type": "stream",
     "text": [
      "\r Time_lapsed (hr:mm:ss) --> 00:00:33 , Progress:86.7%, completed 124 out of 143 items "
     ]
    },
    {
     "name": "stdout",
     "output_type": "stream",
     "text": [
      "\r Time_lapsed (hr:mm:ss) --> 00:00:33 , Progress:87.4%, completed 125 out of 143 items "
     ]
    },
    {
     "name": "stdout",
     "output_type": "stream",
     "text": [
      "\r Time_lapsed (hr:mm:ss) --> 00:00:34 , Progress:88.1%, completed 126 out of 143 items "
     ]
    },
    {
     "name": "stdout",
     "output_type": "stream",
     "text": [
      "\r Time_lapsed (hr:mm:ss) --> 00:00:34 , Progress:88.8%, completed 127 out of 143 items "
     ]
    },
    {
     "name": "stdout",
     "output_type": "stream",
     "text": [
      "\r Time_lapsed (hr:mm:ss) --> 00:00:34 , Progress:89.5%, completed 128 out of 143 items "
     ]
    },
    {
     "name": "stdout",
     "output_type": "stream",
     "text": [
      "\r Time_lapsed (hr:mm:ss) --> 00:00:34 , Progress:90.2%, completed 129 out of 143 items "
     ]
    },
    {
     "name": "stdout",
     "output_type": "stream",
     "text": [
      "\r Time_lapsed (hr:mm:ss) --> 00:00:34 , Progress:90.9%, completed 130 out of 143 items "
     ]
    },
    {
     "name": "stdout",
     "output_type": "stream",
     "text": [
      "\r Time_lapsed (hr:mm:ss) --> 00:00:35 , Progress:91.6%, completed 131 out of 143 items "
     ]
    },
    {
     "name": "stdout",
     "output_type": "stream",
     "text": [
      "\r Time_lapsed (hr:mm:ss) --> 00:00:35 , Progress:92.3%, completed 132 out of 143 items "
     ]
    },
    {
     "name": "stdout",
     "output_type": "stream",
     "text": [
      "\r Time_lapsed (hr:mm:ss) --> 00:00:35 , Progress:93.0%, completed 133 out of 143 items "
     ]
    },
    {
     "name": "stdout",
     "output_type": "stream",
     "text": [
      "\r Time_lapsed (hr:mm:ss) --> 00:00:36 , Progress:93.7%, completed 134 out of 143 items "
     ]
    },
    {
     "name": "stdout",
     "output_type": "stream",
     "text": [
      "\r Time_lapsed (hr:mm:ss) --> 00:00:36 , Progress:94.4%, completed 135 out of 143 items "
     ]
    },
    {
     "name": "stdout",
     "output_type": "stream",
     "text": [
      "\r Time_lapsed (hr:mm:ss) --> 00:00:36 , Progress:95.1%, completed 136 out of 143 items "
     ]
    },
    {
     "name": "stdout",
     "output_type": "stream",
     "text": [
      "\r Time_lapsed (hr:mm:ss) --> 00:00:36 , Progress:95.8%, completed 137 out of 143 items "
     ]
    },
    {
     "name": "stdout",
     "output_type": "stream",
     "text": [
      "\r Time_lapsed (hr:mm:ss) --> 00:00:36 , Progress:96.5%, completed 138 out of 143 items "
     ]
    },
    {
     "name": "stdout",
     "output_type": "stream",
     "text": [
      "\r Time_lapsed (hr:mm:ss) --> 00:00:37 , Progress:97.2%, completed 139 out of 143 items "
     ]
    },
    {
     "name": "stdout",
     "output_type": "stream",
     "text": [
      "\r Time_lapsed (hr:mm:ss) --> 00:00:37 , Progress:97.9%, completed 140 out of 143 items "
     ]
    },
    {
     "name": "stdout",
     "output_type": "stream",
     "text": [
      "\r Time_lapsed (hr:mm:ss) --> 00:00:37 , Progress:98.6%, completed 141 out of 143 items "
     ]
    },
    {
     "name": "stdout",
     "output_type": "stream",
     "text": [
      "\r Time_lapsed (hr:mm:ss) --> 00:00:37 , Progress:99.3%, completed 142 out of 143 items "
     ]
    },
    {
     "name": "stdout",
     "output_type": "stream",
     "text": [
      "\r Time_lapsed (hr:mm:ss) --> 00:00:37 , Progress:100.0%, completed 143 out of 143 items "
     ]
    }
   ],
   "source": [
    "mass_prd = []\n",
    "instant_mass = []\n",
    "sum_x = 0\n",
    "start = time.time()\n",
    "items = len(Log_name_tr)\n",
    "for i, log in (enumerate(Log_name_tr)):\n",
    "    for j, v in enumerate(Volume_tr[i]):\n",
    "        x = (model_neg(np.float(v)) * Speed_tr[i][j])\n",
    "        instant_mass.append(x)\n",
    "        sum_x += x\n",
    "    mass_prd.append([np.squeeze(sum_x.numpy()), np.array(instant_mass[0:len(instant_mass)]), Log_name_tr[i]])\n",
    "    instant_mass.clear()\n",
    "    sum_x = 0\n",
    "    end = time.time() - start\n",
    "    print_progress(i+1, items, end)\n",
    "np.save(MAIN_dir+'Signals/instant_mass_prd_train_named.npy', mass_prd)"
   ]
  },
  {
   "cell_type": "code",
   "execution_count": 29,
   "metadata": {},
   "outputs": [
    {
     "name": "stdout",
     "output_type": "stream",
     "text": [
      "636.78424 622\n"
     ]
    }
   ],
   "source": [
    "print(mass_prd[47][0], ground_truth_tr[47])"
   ]
  },
  {
   "cell_type": "code",
   "execution_count": 22,
   "metadata": {},
   "outputs": [
    {
     "name": "stdout",
     "output_type": "stream",
     "text": [
      "48\n"
     ]
    }
   ],
   "source": [
    "print(len(ground_truth_d))"
   ]
  },
  {
   "cell_type": "code",
   "execution_count": 62,
   "metadata": {
    "collapsed": true
   },
   "outputs": [
    {
     "name": "stdout",
     "output_type": "stream",
     "text": [
      "\r Time_lapsed (hr:mm:ss) --> 00:00:00 , Progress:0.4%, completed 1 out of 239 items "
     ]
    },
    {
     "name": "stdout",
     "output_type": "stream",
     "text": [
      "\r Time_lapsed (hr:mm:ss) --> 00:00:00 , Progress:0.8%, completed 2 out of 239 items "
     ]
    },
    {
     "name": "stdout",
     "output_type": "stream",
     "text": [
      "\r Time_lapsed (hr:mm:ss) --> 00:00:01 , Progress:1.3%, completed 3 out of 239 items "
     ]
    },
    {
     "name": "stdout",
     "output_type": "stream",
     "text": [
      "\r Time_lapsed (hr:mm:ss) --> 00:00:01 , Progress:1.7%, completed 4 out of 239 items "
     ]
    },
    {
     "name": "stdout",
     "output_type": "stream",
     "text": [
      "\r Time_lapsed (hr:mm:ss) --> 00:00:01 , Progress:2.1%, completed 5 out of 239 items "
     ]
    },
    {
     "name": "stdout",
     "output_type": "stream",
     "text": [
      "\r Time_lapsed (hr:mm:ss) --> 00:00:01 , Progress:2.5%, completed 6 out of 239 items "
     ]
    },
    {
     "name": "stdout",
     "output_type": "stream",
     "text": [
      "\r Time_lapsed (hr:mm:ss) --> 00:00:02 , Progress:2.9%, completed 7 out of 239 items "
     ]
    },
    {
     "name": "stdout",
     "output_type": "stream",
     "text": [
      "\r Time_lapsed (hr:mm:ss) --> 00:00:02 , Progress:3.3%, completed 8 out of 239 items "
     ]
    },
    {
     "name": "stdout",
     "output_type": "stream",
     "text": [
      "\r Time_lapsed (hr:mm:ss) --> 00:00:02 , Progress:3.8%, completed 9 out of 239 items "
     ]
    },
    {
     "name": "stdout",
     "output_type": "stream",
     "text": [
      "\r Time_lapsed (hr:mm:ss) --> 00:00:03 , Progress:4.2%, completed 10 out of 239 items "
     ]
    },
    {
     "name": "stdout",
     "output_type": "stream",
     "text": [
      "\r Time_lapsed (hr:mm:ss) --> 00:00:03 , Progress:4.6%, completed 11 out of 239 items "
     ]
    },
    {
     "name": "stdout",
     "output_type": "stream",
     "text": [
      "\r Time_lapsed (hr:mm:ss) --> 00:00:03 , Progress:5.0%, completed 12 out of 239 items "
     ]
    },
    {
     "name": "stdout",
     "output_type": "stream",
     "text": [
      "\r Time_lapsed (hr:mm:ss) --> 00:00:03 , Progress:5.4%, completed 13 out of 239 items "
     ]
    },
    {
     "name": "stdout",
     "output_type": "stream",
     "text": [
      "\r Time_lapsed (hr:mm:ss) --> 00:00:03 , Progress:5.9%, completed 14 out of 239 items "
     ]
    },
    {
     "name": "stdout",
     "output_type": "stream",
     "text": [
      "\r Time_lapsed (hr:mm:ss) --> 00:00:03 , Progress:6.3%, completed 15 out of 239 items "
     ]
    },
    {
     "name": "stdout",
     "output_type": "stream",
     "text": [
      "\r Time_lapsed (hr:mm:ss) --> 00:00:04 , Progress:6.7%, completed 16 out of 239 items "
     ]
    },
    {
     "name": "stdout",
     "output_type": "stream",
     "text": [
      "\r Time_lapsed (hr:mm:ss) --> 00:00:04 , Progress:7.1%, completed 17 out of 239 items "
     ]
    },
    {
     "name": "stdout",
     "output_type": "stream",
     "text": [
      "\r Time_lapsed (hr:mm:ss) --> 00:00:04 , Progress:7.5%, completed 18 out of 239 items "
     ]
    },
    {
     "name": "stdout",
     "output_type": "stream",
     "text": [
      "\r Time_lapsed (hr:mm:ss) --> 00:00:04 , Progress:7.9%, completed 19 out of 239 items "
     ]
    },
    {
     "name": "stdout",
     "output_type": "stream",
     "text": [
      "\r Time_lapsed (hr:mm:ss) --> 00:00:05 , Progress:8.4%, completed 20 out of 239 items "
     ]
    },
    {
     "name": "stdout",
     "output_type": "stream",
     "text": [
      "\r Time_lapsed (hr:mm:ss) --> 00:00:05 , Progress:8.8%, completed 21 out of 239 items "
     ]
    },
    {
     "name": "stdout",
     "output_type": "stream",
     "text": [
      "\r Time_lapsed (hr:mm:ss) --> 00:00:05 , Progress:9.2%, completed 22 out of 239 items "
     ]
    },
    {
     "name": "stdout",
     "output_type": "stream",
     "text": [
      "\r Time_lapsed (hr:mm:ss) --> 00:00:05 , Progress:9.6%, completed 23 out of 239 items "
     ]
    },
    {
     "name": "stdout",
     "output_type": "stream",
     "text": [
      "\r Time_lapsed (hr:mm:ss) --> 00:00:06 , Progress:10.0%, completed 24 out of 239 items "
     ]
    },
    {
     "name": "stdout",
     "output_type": "stream",
     "text": [
      "\r Time_lapsed (hr:mm:ss) --> 00:00:06 , Progress:10.5%, completed 25 out of 239 items "
     ]
    },
    {
     "name": "stdout",
     "output_type": "stream",
     "text": [
      "\r Time_lapsed (hr:mm:ss) --> 00:00:06 , Progress:10.9%, completed 26 out of 239 items "
     ]
    },
    {
     "name": "stdout",
     "output_type": "stream",
     "text": [
      "\r Time_lapsed (hr:mm:ss) --> 00:00:07 , Progress:11.3%, completed 27 out of 239 items "
     ]
    },
    {
     "name": "stdout",
     "output_type": "stream",
     "text": [
      "\r Time_lapsed (hr:mm:ss) --> 00:00:07 , Progress:11.7%, completed 28 out of 239 items "
     ]
    },
    {
     "name": "stdout",
     "output_type": "stream",
     "text": [
      "\r Time_lapsed (hr:mm:ss) --> 00:00:07 , Progress:12.1%, completed 29 out of 239 items "
     ]
    },
    {
     "name": "stdout",
     "output_type": "stream",
     "text": [
      "\r Time_lapsed (hr:mm:ss) --> 00:00:07 , Progress:12.6%, completed 30 out of 239 items "
     ]
    },
    {
     "name": "stdout",
     "output_type": "stream",
     "text": [
      "\r Time_lapsed (hr:mm:ss) --> 00:00:08 , Progress:13.0%, completed 31 out of 239 items "
     ]
    },
    {
     "name": "stdout",
     "output_type": "stream",
     "text": [
      "\r Time_lapsed (hr:mm:ss) --> 00:00:08 , Progress:13.4%, completed 32 out of 239 items "
     ]
    },
    {
     "name": "stdout",
     "output_type": "stream",
     "text": [
      "\r Time_lapsed (hr:mm:ss) --> 00:00:08 , Progress:13.8%, completed 33 out of 239 items "
     ]
    },
    {
     "name": "stdout",
     "output_type": "stream",
     "text": [
      "\r Time_lapsed (hr:mm:ss) --> 00:00:08 , Progress:14.2%, completed 34 out of 239 items "
     ]
    },
    {
     "name": "stdout",
     "output_type": "stream",
     "text": [
      "\r Time_lapsed (hr:mm:ss) --> 00:00:09 , Progress:14.6%, completed 35 out of 239 items "
     ]
    },
    {
     "name": "stdout",
     "output_type": "stream",
     "text": [
      "\r Time_lapsed (hr:mm:ss) --> 00:00:09 , Progress:15.1%, completed 36 out of 239 items "
     ]
    },
    {
     "name": "stdout",
     "output_type": "stream",
     "text": [
      "\r Time_lapsed (hr:mm:ss) --> 00:00:09 , Progress:15.5%, completed 37 out of 239 items "
     ]
    },
    {
     "name": "stdout",
     "output_type": "stream",
     "text": [
      "\r Time_lapsed (hr:mm:ss) --> 00:00:09 , Progress:15.9%, completed 38 out of 239 items "
     ]
    },
    {
     "name": "stdout",
     "output_type": "stream",
     "text": [
      "\r Time_lapsed (hr:mm:ss) --> 00:00:10 , Progress:16.3%, completed 39 out of 239 items "
     ]
    },
    {
     "name": "stdout",
     "output_type": "stream",
     "text": [
      "\r Time_lapsed (hr:mm:ss) --> 00:00:10 , Progress:16.7%, completed 40 out of 239 items "
     ]
    },
    {
     "name": "stdout",
     "output_type": "stream",
     "text": [
      "\r Time_lapsed (hr:mm:ss) --> 00:00:10 , Progress:17.2%, completed 41 out of 239 items "
     ]
    },
    {
     "name": "stdout",
     "output_type": "stream",
     "text": [
      "\r Time_lapsed (hr:mm:ss) --> 00:00:10 , Progress:17.6%, completed 42 out of 239 items "
     ]
    },
    {
     "name": "stdout",
     "output_type": "stream",
     "text": [
      "\r Time_lapsed (hr:mm:ss) --> 00:00:11 , Progress:18.0%, completed 43 out of 239 items "
     ]
    },
    {
     "name": "stdout",
     "output_type": "stream",
     "text": [
      "\r Time_lapsed (hr:mm:ss) --> 00:00:11 , Progress:18.4%, completed 44 out of 239 items "
     ]
    },
    {
     "name": "stdout",
     "output_type": "stream",
     "text": [
      "\r Time_lapsed (hr:mm:ss) --> 00:00:11 , Progress:18.8%, completed 45 out of 239 items "
     ]
    },
    {
     "name": "stdout",
     "output_type": "stream",
     "text": [
      "\r Time_lapsed (hr:mm:ss) --> 00:00:11 , Progress:19.2%, completed 46 out of 239 items "
     ]
    },
    {
     "name": "stdout",
     "output_type": "stream",
     "text": [
      "\r Time_lapsed (hr:mm:ss) --> 00:00:12 , Progress:19.7%, completed 47 out of 239 items "
     ]
    },
    {
     "name": "stdout",
     "output_type": "stream",
     "text": [
      "\r Time_lapsed (hr:mm:ss) --> 00:00:12 , Progress:20.1%, completed 48 out of 239 items "
     ]
    },
    {
     "name": "stdout",
     "output_type": "stream",
     "text": [
      "\r Time_lapsed (hr:mm:ss) --> 00:00:12 , Progress:20.5%, completed 49 out of 239 items "
     ]
    },
    {
     "name": "stdout",
     "output_type": "stream",
     "text": [
      "\r Time_lapsed (hr:mm:ss) --> 00:00:13 , Progress:20.9%, completed 50 out of 239 items "
     ]
    },
    {
     "name": "stdout",
     "output_type": "stream",
     "text": [
      "\r Time_lapsed (hr:mm:ss) --> 00:00:13 , Progress:21.3%, completed 51 out of 239 items "
     ]
    },
    {
     "name": "stdout",
     "output_type": "stream",
     "text": [
      "\r Time_lapsed (hr:mm:ss) --> 00:00:13 , Progress:21.8%, completed 52 out of 239 items "
     ]
    },
    {
     "name": "stdout",
     "output_type": "stream",
     "text": [
      "\r Time_lapsed (hr:mm:ss) --> 00:00:13 , Progress:22.2%, completed 53 out of 239 items "
     ]
    },
    {
     "name": "stdout",
     "output_type": "stream",
     "text": [
      "\r Time_lapsed (hr:mm:ss) --> 00:00:14 , Progress:22.6%, completed 54 out of 239 items "
     ]
    },
    {
     "name": "stdout",
     "output_type": "stream",
     "text": [
      "\r Time_lapsed (hr:mm:ss) --> 00:00:14 , Progress:23.0%, completed 55 out of 239 items "
     ]
    },
    {
     "name": "stdout",
     "output_type": "stream",
     "text": [
      "\r Time_lapsed (hr:mm:ss) --> 00:00:14 , Progress:23.4%, completed 56 out of 239 items "
     ]
    },
    {
     "name": "stdout",
     "output_type": "stream",
     "text": [
      "\r Time_lapsed (hr:mm:ss) --> 00:00:16 , Progress:23.8%, completed 57 out of 239 items "
     ]
    },
    {
     "name": "stdout",
     "output_type": "stream",
     "text": [
      "\r Time_lapsed (hr:mm:ss) --> 00:00:17 , Progress:24.3%, completed 58 out of 239 items "
     ]
    },
    {
     "name": "stdout",
     "output_type": "stream",
     "text": [
      "\r Time_lapsed (hr:mm:ss) --> 00:00:17 , Progress:24.7%, completed 59 out of 239 items "
     ]
    },
    {
     "name": "stdout",
     "output_type": "stream",
     "text": [
      "\r Time_lapsed (hr:mm:ss) --> 00:00:17 , Progress:25.1%, completed 60 out of 239 items "
     ]
    },
    {
     "name": "stdout",
     "output_type": "stream",
     "text": [
      "\r Time_lapsed (hr:mm:ss) --> 00:00:17 , Progress:25.5%, completed 61 out of 239 items "
     ]
    },
    {
     "name": "stdout",
     "output_type": "stream",
     "text": [
      "\r Time_lapsed (hr:mm:ss) --> 00:00:17 , Progress:25.9%, completed 62 out of 239 items "
     ]
    },
    {
     "name": "stdout",
     "output_type": "stream",
     "text": [
      "\r Time_lapsed (hr:mm:ss) --> 00:00:18 , Progress:26.4%, completed 63 out of 239 items "
     ]
    },
    {
     "name": "stdout",
     "output_type": "stream",
     "text": [
      "\r Time_lapsed (hr:mm:ss) --> 00:00:18 , Progress:26.8%, completed 64 out of 239 items "
     ]
    },
    {
     "name": "stdout",
     "output_type": "stream",
     "text": [
      "\r Time_lapsed (hr:mm:ss) --> 00:00:18 , Progress:27.2%, completed 65 out of 239 items "
     ]
    },
    {
     "name": "stdout",
     "output_type": "stream",
     "text": [
      "\r Time_lapsed (hr:mm:ss) --> 00:00:19 , Progress:27.6%, completed 66 out of 239 items "
     ]
    },
    {
     "name": "stdout",
     "output_type": "stream",
     "text": [
      "\r Time_lapsed (hr:mm:ss) --> 00:00:19 , Progress:28.0%, completed 67 out of 239 items "
     ]
    },
    {
     "name": "stdout",
     "output_type": "stream",
     "text": [
      "\r Time_lapsed (hr:mm:ss) --> 00:00:19 , Progress:28.5%, completed 68 out of 239 items "
     ]
    },
    {
     "name": "stdout",
     "output_type": "stream",
     "text": [
      "\r Time_lapsed (hr:mm:ss) --> 00:00:19 , Progress:28.9%, completed 69 out of 239 items "
     ]
    },
    {
     "name": "stdout",
     "output_type": "stream",
     "text": [
      "\r Time_lapsed (hr:mm:ss) --> 00:00:19 , Progress:29.3%, completed 70 out of 239 items "
     ]
    },
    {
     "name": "stdout",
     "output_type": "stream",
     "text": [
      "\r Time_lapsed (hr:mm:ss) --> 00:00:20 , Progress:29.7%, completed 71 out of 239 items "
     ]
    },
    {
     "name": "stdout",
     "output_type": "stream",
     "text": [
      "\r Time_lapsed (hr:mm:ss) --> 00:00:20 , Progress:30.1%, completed 72 out of 239 items "
     ]
    },
    {
     "name": "stdout",
     "output_type": "stream",
     "text": [
      "\r Time_lapsed (hr:mm:ss) --> 00:00:20 , Progress:30.5%, completed 73 out of 239 items "
     ]
    },
    {
     "name": "stdout",
     "output_type": "stream",
     "text": [
      "\r Time_lapsed (hr:mm:ss) --> 00:00:21 , Progress:31.0%, completed 74 out of 239 items "
     ]
    },
    {
     "name": "stdout",
     "output_type": "stream",
     "text": [
      "\r Time_lapsed (hr:mm:ss) --> 00:00:21 , Progress:31.4%, completed 75 out of 239 items "
     ]
    },
    {
     "name": "stdout",
     "output_type": "stream",
     "text": [
      "\r Time_lapsed (hr:mm:ss) --> 00:00:21 , Progress:31.8%, completed 76 out of 239 items "
     ]
    },
    {
     "name": "stdout",
     "output_type": "stream",
     "text": [
      "\r Time_lapsed (hr:mm:ss) --> 00:00:21 , Progress:32.2%, completed 77 out of 239 items "
     ]
    },
    {
     "name": "stdout",
     "output_type": "stream",
     "text": [
      "\r Time_lapsed (hr:mm:ss) --> 00:00:22 , Progress:32.6%, completed 78 out of 239 items "
     ]
    },
    {
     "name": "stdout",
     "output_type": "stream",
     "text": [
      "\r Time_lapsed (hr:mm:ss) --> 00:00:22 , Progress:33.1%, completed 79 out of 239 items "
     ]
    },
    {
     "name": "stdout",
     "output_type": "stream",
     "text": [
      "\r Time_lapsed (hr:mm:ss) --> 00:00:22 , Progress:33.5%, completed 80 out of 239 items "
     ]
    },
    {
     "name": "stdout",
     "output_type": "stream",
     "text": [
      "\r Time_lapsed (hr:mm:ss) --> 00:00:22 , Progress:33.9%, completed 81 out of 239 items "
     ]
    },
    {
     "name": "stdout",
     "output_type": "stream",
     "text": [
      "\r Time_lapsed (hr:mm:ss) --> 00:00:23 , Progress:34.3%, completed 82 out of 239 items "
     ]
    },
    {
     "name": "stdout",
     "output_type": "stream",
     "text": [
      "\r Time_lapsed (hr:mm:ss) --> 00:00:23 , Progress:34.7%, completed 83 out of 239 items "
     ]
    },
    {
     "name": "stdout",
     "output_type": "stream",
     "text": [
      "\r Time_lapsed (hr:mm:ss) --> 00:00:24 , Progress:35.1%, completed 84 out of 239 items "
     ]
    },
    {
     "name": "stdout",
     "output_type": "stream",
     "text": [
      "\r Time_lapsed (hr:mm:ss) --> 00:00:24 , Progress:35.6%, completed 85 out of 239 items "
     ]
    },
    {
     "name": "stdout",
     "output_type": "stream",
     "text": [
      "\r Time_lapsed (hr:mm:ss) --> 00:00:24 , Progress:36.0%, completed 86 out of 239 items "
     ]
    },
    {
     "name": "stdout",
     "output_type": "stream",
     "text": [
      "\r Time_lapsed (hr:mm:ss) --> 00:00:24 , Progress:36.4%, completed 87 out of 239 items "
     ]
    },
    {
     "name": "stdout",
     "output_type": "stream",
     "text": [
      "\r Time_lapsed (hr:mm:ss) --> 00:00:24 , Progress:36.8%, completed 88 out of 239 items "
     ]
    },
    {
     "name": "stdout",
     "output_type": "stream",
     "text": [
      "\r Time_lapsed (hr:mm:ss) --> 00:00:25 , Progress:37.2%, completed 89 out of 239 items "
     ]
    },
    {
     "name": "stdout",
     "output_type": "stream",
     "text": [
      "\r Time_lapsed (hr:mm:ss) --> 00:00:25 , Progress:37.7%, completed 90 out of 239 items "
     ]
    },
    {
     "name": "stdout",
     "output_type": "stream",
     "text": [
      "\r Time_lapsed (hr:mm:ss) --> 00:00:25 , Progress:38.1%, completed 91 out of 239 items "
     ]
    },
    {
     "name": "stdout",
     "output_type": "stream",
     "text": [
      "\r Time_lapsed (hr:mm:ss) --> 00:00:25 , Progress:38.5%, completed 92 out of 239 items "
     ]
    },
    {
     "name": "stdout",
     "output_type": "stream",
     "text": [
      "\r Time_lapsed (hr:mm:ss) --> 00:00:26 , Progress:38.9%, completed 93 out of 239 items "
     ]
    },
    {
     "name": "stdout",
     "output_type": "stream",
     "text": [
      "\r Time_lapsed (hr:mm:ss) --> 00:00:26 , Progress:39.3%, completed 94 out of 239 items "
     ]
    },
    {
     "name": "stdout",
     "output_type": "stream",
     "text": [
      "\r Time_lapsed (hr:mm:ss) --> 00:00:26 , Progress:39.7%, completed 95 out of 239 items "
     ]
    },
    {
     "name": "stdout",
     "output_type": "stream",
     "text": [
      "\r Time_lapsed (hr:mm:ss) --> 00:00:26 , Progress:40.2%, completed 96 out of 239 items "
     ]
    },
    {
     "name": "stdout",
     "output_type": "stream",
     "text": [
      "\r Time_lapsed (hr:mm:ss) --> 00:00:27 , Progress:40.6%, completed 97 out of 239 items "
     ]
    },
    {
     "name": "stdout",
     "output_type": "stream",
     "text": [
      "\r Time_lapsed (hr:mm:ss) --> 00:00:27 , Progress:41.0%, completed 98 out of 239 items "
     ]
    },
    {
     "name": "stdout",
     "output_type": "stream",
     "text": [
      "\r Time_lapsed (hr:mm:ss) --> 00:00:27 , Progress:41.4%, completed 99 out of 239 items "
     ]
    },
    {
     "name": "stdout",
     "output_type": "stream",
     "text": [
      "\r Time_lapsed (hr:mm:ss) --> 00:00:28 , Progress:41.8%, completed 100 out of 239 items "
     ]
    },
    {
     "name": "stdout",
     "output_type": "stream",
     "text": [
      "\r Time_lapsed (hr:mm:ss) --> 00:00:28 , Progress:42.3%, completed 101 out of 239 items "
     ]
    },
    {
     "name": "stdout",
     "output_type": "stream",
     "text": [
      "\r Time_lapsed (hr:mm:ss) --> 00:00:28 , Progress:42.7%, completed 102 out of 239 items "
     ]
    },
    {
     "name": "stdout",
     "output_type": "stream",
     "text": [
      "\r Time_lapsed (hr:mm:ss) --> 00:00:28 , Progress:43.1%, completed 103 out of 239 items "
     ]
    },
    {
     "name": "stdout",
     "output_type": "stream",
     "text": [
      "\r Time_lapsed (hr:mm:ss) --> 00:00:29 , Progress:43.5%, completed 104 out of 239 items "
     ]
    },
    {
     "name": "stdout",
     "output_type": "stream",
     "text": [
      "\r Time_lapsed (hr:mm:ss) --> 00:00:29 , Progress:43.9%, completed 105 out of 239 items "
     ]
    },
    {
     "name": "stdout",
     "output_type": "stream",
     "text": [
      "\r Time_lapsed (hr:mm:ss) --> 00:00:29 , Progress:44.4%, completed 106 out of 239 items "
     ]
    },
    {
     "name": "stdout",
     "output_type": "stream",
     "text": [
      "\r Time_lapsed (hr:mm:ss) --> 00:00:29 , Progress:44.8%, completed 107 out of 239 items "
     ]
    },
    {
     "name": "stdout",
     "output_type": "stream",
     "text": [
      "\r Time_lapsed (hr:mm:ss) --> 00:00:29 , Progress:45.2%, completed 108 out of 239 items "
     ]
    },
    {
     "name": "stdout",
     "output_type": "stream",
     "text": [
      "\r Time_lapsed (hr:mm:ss) --> 00:00:30 , Progress:45.6%, completed 109 out of 239 items "
     ]
    },
    {
     "name": "stdout",
     "output_type": "stream",
     "text": [
      "\r Time_lapsed (hr:mm:ss) --> 00:00:30 , Progress:46.0%, completed 110 out of 239 items "
     ]
    },
    {
     "name": "stdout",
     "output_type": "stream",
     "text": [
      "\r Time_lapsed (hr:mm:ss) --> 00:00:30 , Progress:46.4%, completed 111 out of 239 items "
     ]
    },
    {
     "name": "stdout",
     "output_type": "stream",
     "text": [
      "\r Time_lapsed (hr:mm:ss) --> 00:00:31 , Progress:46.9%, completed 112 out of 239 items "
     ]
    },
    {
     "name": "stdout",
     "output_type": "stream",
     "text": [
      "\r Time_lapsed (hr:mm:ss) --> 00:00:31 , Progress:47.3%, completed 113 out of 239 items "
     ]
    },
    {
     "name": "stdout",
     "output_type": "stream",
     "text": [
      "\r Time_lapsed (hr:mm:ss) --> 00:00:31 , Progress:47.7%, completed 114 out of 239 items "
     ]
    },
    {
     "name": "stdout",
     "output_type": "stream",
     "text": [
      "\r Time_lapsed (hr:mm:ss) --> 00:00:32 , Progress:48.1%, completed 115 out of 239 items "
     ]
    },
    {
     "name": "stdout",
     "output_type": "stream",
     "text": [
      "\r Time_lapsed (hr:mm:ss) --> 00:00:32 , Progress:48.5%, completed 116 out of 239 items "
     ]
    },
    {
     "name": "stdout",
     "output_type": "stream",
     "text": [
      "\r Time_lapsed (hr:mm:ss) --> 00:00:32 , Progress:49.0%, completed 117 out of 239 items "
     ]
    },
    {
     "name": "stdout",
     "output_type": "stream",
     "text": [
      "\r Time_lapsed (hr:mm:ss) --> 00:00:32 , Progress:49.4%, completed 118 out of 239 items "
     ]
    },
    {
     "name": "stdout",
     "output_type": "stream",
     "text": [
      "\r Time_lapsed (hr:mm:ss) --> 00:00:32 , Progress:49.8%, completed 119 out of 239 items "
     ]
    },
    {
     "name": "stdout",
     "output_type": "stream",
     "text": [
      "\r Time_lapsed (hr:mm:ss) --> 00:00:33 , Progress:50.2%, completed 120 out of 239 items "
     ]
    },
    {
     "name": "stdout",
     "output_type": "stream",
     "text": [
      "\r Time_lapsed (hr:mm:ss) --> 00:00:33 , Progress:50.6%, completed 121 out of 239 items "
     ]
    },
    {
     "name": "stdout",
     "output_type": "stream",
     "text": [
      "\r Time_lapsed (hr:mm:ss) --> 00:00:33 , Progress:51.0%, completed 122 out of 239 items "
     ]
    },
    {
     "name": "stdout",
     "output_type": "stream",
     "text": [
      "\r Time_lapsed (hr:mm:ss) --> 00:00:33 , Progress:51.5%, completed 123 out of 239 items "
     ]
    },
    {
     "name": "stdout",
     "output_type": "stream",
     "text": [
      "\r Time_lapsed (hr:mm:ss) --> 00:00:34 , Progress:51.9%, completed 124 out of 239 items "
     ]
    },
    {
     "name": "stdout",
     "output_type": "stream",
     "text": [
      "\r Time_lapsed (hr:mm:ss) --> 00:00:34 , Progress:52.3%, completed 125 out of 239 items "
     ]
    },
    {
     "name": "stdout",
     "output_type": "stream",
     "text": [
      "\r Time_lapsed (hr:mm:ss) --> 00:00:34 , Progress:52.7%, completed 126 out of 239 items "
     ]
    },
    {
     "name": "stdout",
     "output_type": "stream",
     "text": [
      "\r Time_lapsed (hr:mm:ss) --> 00:00:34 , Progress:53.1%, completed 127 out of 239 items "
     ]
    },
    {
     "name": "stdout",
     "output_type": "stream",
     "text": [
      "\r Time_lapsed (hr:mm:ss) --> 00:00:34 , Progress:53.6%, completed 128 out of 239 items "
     ]
    },
    {
     "name": "stdout",
     "output_type": "stream",
     "text": [
      "\r Time_lapsed (hr:mm:ss) --> 00:00:35 , Progress:54.0%, completed 129 out of 239 items "
     ]
    },
    {
     "name": "stdout",
     "output_type": "stream",
     "text": [
      "\r Time_lapsed (hr:mm:ss) --> 00:00:35 , Progress:54.4%, completed 130 out of 239 items "
     ]
    },
    {
     "name": "stdout",
     "output_type": "stream",
     "text": [
      "\r Time_lapsed (hr:mm:ss) --> 00:00:35 , Progress:54.8%, completed 131 out of 239 items "
     ]
    },
    {
     "name": "stdout",
     "output_type": "stream",
     "text": [
      "\r Time_lapsed (hr:mm:ss) --> 00:00:36 , Progress:55.2%, completed 132 out of 239 items "
     ]
    },
    {
     "name": "stdout",
     "output_type": "stream",
     "text": [
      "\r Time_lapsed (hr:mm:ss) --> 00:00:36 , Progress:55.6%, completed 133 out of 239 items "
     ]
    },
    {
     "name": "stdout",
     "output_type": "stream",
     "text": [
      "\r Time_lapsed (hr:mm:ss) --> 00:00:36 , Progress:56.1%, completed 134 out of 239 items "
     ]
    },
    {
     "name": "stdout",
     "output_type": "stream",
     "text": [
      "\r Time_lapsed (hr:mm:ss) --> 00:00:36 , Progress:56.5%, completed 135 out of 239 items "
     ]
    },
    {
     "name": "stdout",
     "output_type": "stream",
     "text": [
      "\r Time_lapsed (hr:mm:ss) --> 00:00:36 , Progress:56.9%, completed 136 out of 239 items "
     ]
    },
    {
     "name": "stdout",
     "output_type": "stream",
     "text": [
      "\r Time_lapsed (hr:mm:ss) --> 00:00:36 , Progress:57.3%, completed 137 out of 239 items "
     ]
    },
    {
     "name": "stdout",
     "output_type": "stream",
     "text": [
      "\r Time_lapsed (hr:mm:ss) --> 00:00:37 , Progress:57.7%, completed 138 out of 239 items "
     ]
    },
    {
     "name": "stdout",
     "output_type": "stream",
     "text": [
      "\r Time_lapsed (hr:mm:ss) --> 00:00:37 , Progress:58.2%, completed 139 out of 239 items "
     ]
    },
    {
     "name": "stdout",
     "output_type": "stream",
     "text": [
      "\r Time_lapsed (hr:mm:ss) --> 00:00:37 , Progress:58.6%, completed 140 out of 239 items "
     ]
    },
    {
     "name": "stdout",
     "output_type": "stream",
     "text": [
      "\r Time_lapsed (hr:mm:ss) --> 00:00:38 , Progress:59.0%, completed 141 out of 239 items "
     ]
    },
    {
     "name": "stdout",
     "output_type": "stream",
     "text": [
      "\r Time_lapsed (hr:mm:ss) --> 00:00:38 , Progress:59.4%, completed 142 out of 239 items "
     ]
    },
    {
     "name": "stdout",
     "output_type": "stream",
     "text": [
      "\r Time_lapsed (hr:mm:ss) --> 00:00:38 , Progress:59.8%, completed 143 out of 239 items "
     ]
    },
    {
     "name": "stdout",
     "output_type": "stream",
     "text": [
      "\r Time_lapsed (hr:mm:ss) --> 00:00:39 , Progress:60.3%, completed 144 out of 239 items "
     ]
    },
    {
     "name": "stdout",
     "output_type": "stream",
     "text": [
      "\r Time_lapsed (hr:mm:ss) --> 00:00:39 , Progress:60.7%, completed 145 out of 239 items "
     ]
    },
    {
     "name": "stdout",
     "output_type": "stream",
     "text": [
      "\r Time_lapsed (hr:mm:ss) --> 00:00:39 , Progress:61.1%, completed 146 out of 239 items "
     ]
    },
    {
     "name": "stdout",
     "output_type": "stream",
     "text": [
      "\r Time_lapsed (hr:mm:ss) --> 00:00:39 , Progress:61.5%, completed 147 out of 239 items "
     ]
    },
    {
     "name": "stdout",
     "output_type": "stream",
     "text": [
      "\r Time_lapsed (hr:mm:ss) --> 00:00:40 , Progress:61.9%, completed 148 out of 239 items "
     ]
    },
    {
     "name": "stdout",
     "output_type": "stream",
     "text": [
      "\r Time_lapsed (hr:mm:ss) --> 00:00:40 , Progress:62.3%, completed 149 out of 239 items "
     ]
    },
    {
     "name": "stdout",
     "output_type": "stream",
     "text": [
      "\r Time_lapsed (hr:mm:ss) --> 00:00:40 , Progress:62.8%, completed 150 out of 239 items "
     ]
    },
    {
     "name": "stdout",
     "output_type": "stream",
     "text": [
      "\r Time_lapsed (hr:mm:ss) --> 00:00:41 , Progress:63.2%, completed 151 out of 239 items "
     ]
    },
    {
     "name": "stdout",
     "output_type": "stream",
     "text": [
      "\r Time_lapsed (hr:mm:ss) --> 00:00:41 , Progress:63.6%, completed 152 out of 239 items "
     ]
    },
    {
     "name": "stdout",
     "output_type": "stream",
     "text": [
      "\r Time_lapsed (hr:mm:ss) --> 00:00:41 , Progress:64.0%, completed 153 out of 239 items "
     ]
    },
    {
     "name": "stdout",
     "output_type": "stream",
     "text": [
      "\r Time_lapsed (hr:mm:ss) --> 00:00:41 , Progress:64.4%, completed 154 out of 239 items "
     ]
    },
    {
     "name": "stdout",
     "output_type": "stream",
     "text": [
      "\r Time_lapsed (hr:mm:ss) --> 00:00:41 , Progress:64.9%, completed 155 out of 239 items "
     ]
    },
    {
     "name": "stdout",
     "output_type": "stream",
     "text": [
      "\r Time_lapsed (hr:mm:ss) --> 00:00:41 , Progress:65.3%, completed 156 out of 239 items "
     ]
    },
    {
     "name": "stdout",
     "output_type": "stream",
     "text": [
      "\r Time_lapsed (hr:mm:ss) --> 00:00:42 , Progress:65.7%, completed 157 out of 239 items "
     ]
    },
    {
     "name": "stdout",
     "output_type": "stream",
     "text": [
      "\r Time_lapsed (hr:mm:ss) --> 00:00:42 , Progress:66.1%, completed 158 out of 239 items "
     ]
    },
    {
     "name": "stdout",
     "output_type": "stream",
     "text": [
      "\r Time_lapsed (hr:mm:ss) --> 00:00:43 , Progress:66.5%, completed 159 out of 239 items "
     ]
    },
    {
     "name": "stdout",
     "output_type": "stream",
     "text": [
      "\r Time_lapsed (hr:mm:ss) --> 00:00:43 , Progress:66.9%, completed 160 out of 239 items "
     ]
    },
    {
     "name": "stdout",
     "output_type": "stream",
     "text": [
      "\r Time_lapsed (hr:mm:ss) --> 00:00:43 , Progress:67.4%, completed 161 out of 239 items "
     ]
    },
    {
     "name": "stdout",
     "output_type": "stream",
     "text": [
      "\r Time_lapsed (hr:mm:ss) --> 00:00:44 , Progress:67.8%, completed 162 out of 239 items "
     ]
    },
    {
     "name": "stdout",
     "output_type": "stream",
     "text": [
      "\r Time_lapsed (hr:mm:ss) --> 00:00:44 , Progress:68.2%, completed 163 out of 239 items "
     ]
    },
    {
     "name": "stdout",
     "output_type": "stream",
     "text": [
      "\r Time_lapsed (hr:mm:ss) --> 00:00:44 , Progress:68.6%, completed 164 out of 239 items "
     ]
    },
    {
     "name": "stdout",
     "output_type": "stream",
     "text": [
      "\r Time_lapsed (hr:mm:ss) --> 00:00:45 , Progress:69.0%, completed 165 out of 239 items "
     ]
    },
    {
     "name": "stdout",
     "output_type": "stream",
     "text": [
      "\r Time_lapsed (hr:mm:ss) --> 00:00:45 , Progress:69.5%, completed 166 out of 239 items "
     ]
    },
    {
     "name": "stdout",
     "output_type": "stream",
     "text": [
      "\r Time_lapsed (hr:mm:ss) --> 00:00:45 , Progress:69.9%, completed 167 out of 239 items "
     ]
    },
    {
     "name": "stdout",
     "output_type": "stream",
     "text": [
      "\r Time_lapsed (hr:mm:ss) --> 00:00:45 , Progress:70.3%, completed 168 out of 239 items "
     ]
    },
    {
     "name": "stdout",
     "output_type": "stream",
     "text": [
      "\r Time_lapsed (hr:mm:ss) --> 00:00:45 , Progress:70.7%, completed 169 out of 239 items "
     ]
    },
    {
     "name": "stdout",
     "output_type": "stream",
     "text": [
      "\r Time_lapsed (hr:mm:ss) --> 00:00:46 , Progress:71.1%, completed 170 out of 239 items "
     ]
    },
    {
     "name": "stdout",
     "output_type": "stream",
     "text": [
      "\r Time_lapsed (hr:mm:ss) --> 00:00:47 , Progress:71.5%, completed 171 out of 239 items "
     ]
    },
    {
     "name": "stdout",
     "output_type": "stream",
     "text": [
      "\r Time_lapsed (hr:mm:ss) --> 00:00:48 , Progress:72.0%, completed 172 out of 239 items "
     ]
    },
    {
     "name": "stdout",
     "output_type": "stream",
     "text": [
      "\r Time_lapsed (hr:mm:ss) --> 00:00:48 , Progress:72.4%, completed 173 out of 239 items "
     ]
    },
    {
     "name": "stdout",
     "output_type": "stream",
     "text": [
      "\r Time_lapsed (hr:mm:ss) --> 00:00:48 , Progress:72.8%, completed 174 out of 239 items "
     ]
    },
    {
     "name": "stdout",
     "output_type": "stream",
     "text": [
      "\r Time_lapsed (hr:mm:ss) --> 00:00:49 , Progress:73.2%, completed 175 out of 239 items "
     ]
    },
    {
     "name": "stdout",
     "output_type": "stream",
     "text": [
      "\r Time_lapsed (hr:mm:ss) --> 00:00:49 , Progress:73.6%, completed 176 out of 239 items "
     ]
    },
    {
     "name": "stdout",
     "output_type": "stream",
     "text": [
      "\r Time_lapsed (hr:mm:ss) --> 00:00:49 , Progress:74.1%, completed 177 out of 239 items "
     ]
    },
    {
     "name": "stdout",
     "output_type": "stream",
     "text": [
      "\r Time_lapsed (hr:mm:ss) --> 00:00:49 , Progress:74.5%, completed 178 out of 239 items "
     ]
    },
    {
     "name": "stdout",
     "output_type": "stream",
     "text": [
      "\r Time_lapsed (hr:mm:ss) --> 00:00:50 , Progress:74.9%, completed 179 out of 239 items "
     ]
    },
    {
     "name": "stdout",
     "output_type": "stream",
     "text": [
      "\r Time_lapsed (hr:mm:ss) --> 00:00:50 , Progress:75.3%, completed 180 out of 239 items "
     ]
    },
    {
     "name": "stdout",
     "output_type": "stream",
     "text": [
      "\r Time_lapsed (hr:mm:ss) --> 00:00:50 , Progress:75.7%, completed 181 out of 239 items "
     ]
    },
    {
     "name": "stdout",
     "output_type": "stream",
     "text": [
      "\r Time_lapsed (hr:mm:ss) --> 00:00:50 , Progress:76.2%, completed 182 out of 239 items "
     ]
    },
    {
     "name": "stdout",
     "output_type": "stream",
     "text": [
      "\r Time_lapsed (hr:mm:ss) --> 00:00:51 , Progress:76.6%, completed 183 out of 239 items "
     ]
    },
    {
     "name": "stdout",
     "output_type": "stream",
     "text": [
      "\r Time_lapsed (hr:mm:ss) --> 00:00:51 , Progress:77.0%, completed 184 out of 239 items "
     ]
    },
    {
     "name": "stdout",
     "output_type": "stream",
     "text": [
      "\r Time_lapsed (hr:mm:ss) --> 00:00:51 , Progress:77.4%, completed 185 out of 239 items "
     ]
    },
    {
     "name": "stdout",
     "output_type": "stream",
     "text": [
      "\r Time_lapsed (hr:mm:ss) --> 00:00:51 , Progress:77.8%, completed 186 out of 239 items "
     ]
    },
    {
     "name": "stdout",
     "output_type": "stream",
     "text": [
      "\r Time_lapsed (hr:mm:ss) --> 00:00:52 , Progress:78.2%, completed 187 out of 239 items "
     ]
    },
    {
     "name": "stdout",
     "output_type": "stream",
     "text": [
      "\r Time_lapsed (hr:mm:ss) --> 00:00:52 , Progress:78.7%, completed 188 out of 239 items "
     ]
    },
    {
     "name": "stdout",
     "output_type": "stream",
     "text": [
      "\r Time_lapsed (hr:mm:ss) --> 00:00:52 , Progress:79.1%, completed 189 out of 239 items "
     ]
    },
    {
     "name": "stdout",
     "output_type": "stream",
     "text": [
      "\r Time_lapsed (hr:mm:ss) --> 00:00:52 , Progress:79.5%, completed 190 out of 239 items "
     ]
    },
    {
     "name": "stdout",
     "output_type": "stream",
     "text": [
      "\r Time_lapsed (hr:mm:ss) --> 00:00:52 , Progress:79.9%, completed 191 out of 239 items "
     ]
    },
    {
     "name": "stdout",
     "output_type": "stream",
     "text": [
      "\r Time_lapsed (hr:mm:ss) --> 00:00:53 , Progress:80.3%, completed 192 out of 239 items "
     ]
    },
    {
     "name": "stdout",
     "output_type": "stream",
     "text": [
      "\r Time_lapsed (hr:mm:ss) --> 00:00:53 , Progress:80.8%, completed 193 out of 239 items "
     ]
    },
    {
     "name": "stdout",
     "output_type": "stream",
     "text": [
      "\r Time_lapsed (hr:mm:ss) --> 00:00:53 , Progress:81.2%, completed 194 out of 239 items "
     ]
    },
    {
     "name": "stdout",
     "output_type": "stream",
     "text": [
      "\r Time_lapsed (hr:mm:ss) --> 00:00:54 , Progress:81.6%, completed 195 out of 239 items "
     ]
    },
    {
     "name": "stdout",
     "output_type": "stream",
     "text": [
      "\r Time_lapsed (hr:mm:ss) --> 00:00:54 , Progress:82.0%, completed 196 out of 239 items "
     ]
    },
    {
     "name": "stdout",
     "output_type": "stream",
     "text": [
      "\r Time_lapsed (hr:mm:ss) --> 00:00:54 , Progress:82.4%, completed 197 out of 239 items "
     ]
    },
    {
     "name": "stdout",
     "output_type": "stream",
     "text": [
      "\r Time_lapsed (hr:mm:ss) --> 00:00:54 , Progress:82.8%, completed 198 out of 239 items "
     ]
    },
    {
     "name": "stdout",
     "output_type": "stream",
     "text": [
      "\r Time_lapsed (hr:mm:ss) --> 00:00:54 , Progress:83.3%, completed 199 out of 239 items "
     ]
    },
    {
     "name": "stdout",
     "output_type": "stream",
     "text": [
      "\r Time_lapsed (hr:mm:ss) --> 00:00:54 , Progress:83.7%, completed 200 out of 239 items "
     ]
    },
    {
     "name": "stdout",
     "output_type": "stream",
     "text": [
      "\r Time_lapsed (hr:mm:ss) --> 00:00:55 , Progress:84.1%, completed 201 out of 239 items "
     ]
    },
    {
     "name": "stdout",
     "output_type": "stream",
     "text": [
      "\r Time_lapsed (hr:mm:ss) --> 00:00:55 , Progress:84.5%, completed 202 out of 239 items "
     ]
    },
    {
     "name": "stdout",
     "output_type": "stream",
     "text": [
      "\r Time_lapsed (hr:mm:ss) --> 00:00:55 , Progress:84.9%, completed 203 out of 239 items "
     ]
    },
    {
     "name": "stdout",
     "output_type": "stream",
     "text": [
      "\r Time_lapsed (hr:mm:ss) --> 00:00:55 , Progress:85.4%, completed 204 out of 239 items "
     ]
    },
    {
     "name": "stdout",
     "output_type": "stream",
     "text": [
      "\r Time_lapsed (hr:mm:ss) --> 00:00:55 , Progress:85.8%, completed 205 out of 239 items "
     ]
    },
    {
     "name": "stdout",
     "output_type": "stream",
     "text": [
      "\r Time_lapsed (hr:mm:ss) --> 00:00:55 , Progress:86.2%, completed 206 out of 239 items "
     ]
    },
    {
     "name": "stdout",
     "output_type": "stream",
     "text": [
      "\r Time_lapsed (hr:mm:ss) --> 00:00:56 , Progress:86.6%, completed 207 out of 239 items "
     ]
    },
    {
     "name": "stdout",
     "output_type": "stream",
     "text": [
      "\r Time_lapsed (hr:mm:ss) --> 00:00:56 , Progress:87.0%, completed 208 out of 239 items "
     ]
    },
    {
     "name": "stdout",
     "output_type": "stream",
     "text": [
      "\r Time_lapsed (hr:mm:ss) --> 00:00:56 , Progress:87.4%, completed 209 out of 239 items "
     ]
    },
    {
     "name": "stdout",
     "output_type": "stream",
     "text": [
      "\r Time_lapsed (hr:mm:ss) --> 00:00:56 , Progress:87.9%, completed 210 out of 239 items "
     ]
    },
    {
     "name": "stdout",
     "output_type": "stream",
     "text": [
      "\r Time_lapsed (hr:mm:ss) --> 00:00:56 , Progress:88.3%, completed 211 out of 239 items "
     ]
    },
    {
     "name": "stdout",
     "output_type": "stream",
     "text": [
      "\r Time_lapsed (hr:mm:ss) --> 00:00:57 , Progress:88.7%, completed 212 out of 239 items "
     ]
    },
    {
     "name": "stdout",
     "output_type": "stream",
     "text": [
      "\r Time_lapsed (hr:mm:ss) --> 00:00:57 , Progress:89.1%, completed 213 out of 239 items "
     ]
    },
    {
     "name": "stdout",
     "output_type": "stream",
     "text": [
      "\r Time_lapsed (hr:mm:ss) --> 00:00:57 , Progress:89.5%, completed 214 out of 239 items "
     ]
    },
    {
     "name": "stdout",
     "output_type": "stream",
     "text": [
      "\r Time_lapsed (hr:mm:ss) --> 00:00:58 , Progress:90.0%, completed 215 out of 239 items "
     ]
    },
    {
     "name": "stdout",
     "output_type": "stream",
     "text": [
      "\r Time_lapsed (hr:mm:ss) --> 00:00:58 , Progress:90.4%, completed 216 out of 239 items "
     ]
    },
    {
     "name": "stdout",
     "output_type": "stream",
     "text": [
      "\r Time_lapsed (hr:mm:ss) --> 00:00:58 , Progress:90.8%, completed 217 out of 239 items "
     ]
    },
    {
     "name": "stdout",
     "output_type": "stream",
     "text": [
      "\r Time_lapsed (hr:mm:ss) --> 00:00:58 , Progress:91.2%, completed 218 out of 239 items "
     ]
    },
    {
     "name": "stdout",
     "output_type": "stream",
     "text": [
      "\r Time_lapsed (hr:mm:ss) --> 00:00:58 , Progress:91.6%, completed 219 out of 239 items "
     ]
    },
    {
     "name": "stdout",
     "output_type": "stream",
     "text": [
      "\r Time_lapsed (hr:mm:ss) --> 00:00:59 , Progress:92.1%, completed 220 out of 239 items "
     ]
    },
    {
     "name": "stdout",
     "output_type": "stream",
     "text": [
      "\r Time_lapsed (hr:mm:ss) --> 00:00:59 , Progress:92.5%, completed 221 out of 239 items "
     ]
    },
    {
     "name": "stdout",
     "output_type": "stream",
     "text": [
      "\r Time_lapsed (hr:mm:ss) --> 00:00:59 , Progress:92.9%, completed 222 out of 239 items "
     ]
    },
    {
     "name": "stdout",
     "output_type": "stream",
     "text": [
      "\r Time_lapsed (hr:mm:ss) --> 00:00:59 , Progress:93.3%, completed 223 out of 239 items "
     ]
    },
    {
     "name": "stdout",
     "output_type": "stream",
     "text": [
      "\r Time_lapsed (hr:mm:ss) --> 00:00:59 , Progress:93.7%, completed 224 out of 239 items "
     ]
    },
    {
     "name": "stdout",
     "output_type": "stream",
     "text": [
      "\r Time_lapsed (hr:mm:ss) --> 00:01:00 , Progress:94.1%, completed 225 out of 239 items "
     ]
    },
    {
     "name": "stdout",
     "output_type": "stream",
     "text": [
      "\r Time_lapsed (hr:mm:ss) --> 00:01:00 , Progress:94.6%, completed 226 out of 239 items "
     ]
    },
    {
     "name": "stdout",
     "output_type": "stream",
     "text": [
      "\r Time_lapsed (hr:mm:ss) --> 00:01:00 , Progress:95.0%, completed 227 out of 239 items "
     ]
    },
    {
     "name": "stdout",
     "output_type": "stream",
     "text": [
      "\r Time_lapsed (hr:mm:ss) --> 00:01:00 , Progress:95.4%, completed 228 out of 239 items "
     ]
    },
    {
     "name": "stdout",
     "output_type": "stream",
     "text": [
      "\r Time_lapsed (hr:mm:ss) --> 00:01:00 , Progress:95.8%, completed 229 out of 239 items "
     ]
    },
    {
     "name": "stdout",
     "output_type": "stream",
     "text": [
      "\r Time_lapsed (hr:mm:ss) --> 00:01:01 , Progress:96.2%, completed 230 out of 239 items "
     ]
    },
    {
     "name": "stdout",
     "output_type": "stream",
     "text": [
      "\r Time_lapsed (hr:mm:ss) --> 00:01:01 , Progress:96.7%, completed 231 out of 239 items "
     ]
    },
    {
     "name": "stdout",
     "output_type": "stream",
     "text": [
      "\r Time_lapsed (hr:mm:ss) --> 00:01:01 , Progress:97.1%, completed 232 out of 239 items "
     ]
    },
    {
     "name": "stdout",
     "output_type": "stream",
     "text": [
      "\r Time_lapsed (hr:mm:ss) --> 00:01:01 , Progress:97.5%, completed 233 out of 239 items "
     ]
    },
    {
     "name": "stdout",
     "output_type": "stream",
     "text": [
      "\r Time_lapsed (hr:mm:ss) --> 00:01:01 , Progress:97.9%, completed 234 out of 239 items "
     ]
    },
    {
     "name": "stdout",
     "output_type": "stream",
     "text": [
      "\r Time_lapsed (hr:mm:ss) --> 00:01:01 , Progress:98.3%, completed 235 out of 239 items "
     ]
    },
    {
     "name": "stdout",
     "output_type": "stream",
     "text": [
      "\r Time_lapsed (hr:mm:ss) --> 00:01:01 , Progress:98.7%, completed 236 out of 239 items "
     ]
    },
    {
     "name": "stdout",
     "output_type": "stream",
     "text": [
      "\r Time_lapsed (hr:mm:ss) --> 00:01:02 , Progress:99.2%, completed 237 out of 239 items "
     ]
    },
    {
     "name": "stdout",
     "output_type": "stream",
     "text": [
      "\r Time_lapsed (hr:mm:ss) --> 00:01:02 , Progress:99.6%, completed 238 out of 239 items "
     ]
    },
    {
     "name": "stdout",
     "output_type": "stream",
     "text": [
      "\r Time_lapsed (hr:mm:ss) --> 00:01:02 , Progress:100.0%, completed 239 out of 239 items "
     ]
    }
   ],
   "source": [
    "# full\n",
    "x = 0\n",
    "mass_prd = []\n",
    "instant_mass = []\n",
    "sum_x = 0\n",
    "start = time.time()\n",
    "items = len(Log_name)\n",
    "for i, log in (enumerate(Log_name)):\n",
    "    for j, v in enumerate(Volume[i]):\n",
    "        x = (model_pos(np.float(v)) * Speed[i][j])\n",
    "        instant_mass.append(x)\n",
    "        sum_x += x\n",
    "    mass_prd.append([Log_name[i], ground_truth[i], np.squeeze(sum_x.numpy()), np.array(instant_mass[0:len(instant_mass)])])\n",
    "    instant_mass.clear()\n",
    "    sum_x = 0\n",
    "    end = time.time() - start\n",
    "    print_progress(i+1, items, end)\n",
    "    \n",
    "np.save(MAIN_dir+'Signals/instant_mass_prd_full_named.npy', mass_prd)"
   ]
  },
  {
   "cell_type": "code",
   "execution_count": 63,
   "metadata": {
    "collapsed": false
   },
   "outputs": [
    {
     "name": "stdout",
     "output_type": "stream",
     "text": [
      "\r Time_lapsed (hr:mm:ss) --> 00:00:00 , Progress:2.1%, completed 1 out of 48 items "
     ]
    },
    {
     "name": "stdout",
     "output_type": "stream",
     "text": [
      "\r Time_lapsed (hr:mm:ss) --> 00:00:00 , Progress:4.2%, completed 2 out of 48 items "
     ]
    },
    {
     "name": "stdout",
     "output_type": "stream",
     "text": [
      "\r Time_lapsed (hr:mm:ss) --> 00:00:00 , Progress:6.2%, completed 3 out of 48 items "
     ]
    },
    {
     "name": "stdout",
     "output_type": "stream",
     "text": [
      "\r Time_lapsed (hr:mm:ss) --> 00:00:01 , Progress:8.3%, completed 4 out of 48 items "
     ]
    },
    {
     "name": "stdout",
     "output_type": "stream",
     "text": [
      "\r Time_lapsed (hr:mm:ss) --> 00:00:01 , Progress:10.4%, completed 5 out of 48 items "
     ]
    },
    {
     "name": "stdout",
     "output_type": "stream",
     "text": [
      "\r Time_lapsed (hr:mm:ss) --> 00:00:01 , Progress:12.5%, completed 6 out of 48 items "
     ]
    },
    {
     "name": "stdout",
     "output_type": "stream",
     "text": [
      "\r Time_lapsed (hr:mm:ss) --> 00:00:02 , Progress:14.6%, completed 7 out of 48 items "
     ]
    },
    {
     "name": "stdout",
     "output_type": "stream",
     "text": [
      "\r Time_lapsed (hr:mm:ss) --> 00:00:02 , Progress:16.7%, completed 8 out of 48 items "
     ]
    },
    {
     "name": "stdout",
     "output_type": "stream",
     "text": [
      "\r Time_lapsed (hr:mm:ss) --> 00:00:02 , Progress:18.8%, completed 9 out of 48 items "
     ]
    },
    {
     "name": "stdout",
     "output_type": "stream",
     "text": [
      "\r Time_lapsed (hr:mm:ss) --> 00:00:02 , Progress:20.8%, completed 10 out of 48 items "
     ]
    },
    {
     "name": "stdout",
     "output_type": "stream",
     "text": [
      "\r Time_lapsed (hr:mm:ss) --> 00:00:03 , Progress:22.9%, completed 11 out of 48 items "
     ]
    },
    {
     "name": "stdout",
     "output_type": "stream",
     "text": [
      "\r Time_lapsed (hr:mm:ss) --> 00:00:03 , Progress:25.0%, completed 12 out of 48 items "
     ]
    },
    {
     "name": "stdout",
     "output_type": "stream",
     "text": [
      "\r Time_lapsed (hr:mm:ss) --> 00:00:04 , Progress:27.1%, completed 13 out of 48 items "
     ]
    },
    {
     "name": "stdout",
     "output_type": "stream",
     "text": [
      "\r Time_lapsed (hr:mm:ss) --> 00:00:04 , Progress:29.2%, completed 14 out of 48 items "
     ]
    },
    {
     "name": "stdout",
     "output_type": "stream",
     "text": [
      "\r Time_lapsed (hr:mm:ss) --> 00:00:04 , Progress:31.2%, completed 15 out of 48 items "
     ]
    },
    {
     "name": "stdout",
     "output_type": "stream",
     "text": [
      "\r Time_lapsed (hr:mm:ss) --> 00:00:04 , Progress:33.3%, completed 16 out of 48 items "
     ]
    },
    {
     "name": "stdout",
     "output_type": "stream",
     "text": [
      "\r Time_lapsed (hr:mm:ss) --> 00:00:04 , Progress:35.4%, completed 17 out of 48 items "
     ]
    },
    {
     "name": "stdout",
     "output_type": "stream",
     "text": [
      "\r Time_lapsed (hr:mm:ss) --> 00:00:05 , Progress:37.5%, completed 18 out of 48 items "
     ]
    },
    {
     "name": "stdout",
     "output_type": "stream",
     "text": [
      "\r Time_lapsed (hr:mm:ss) --> 00:00:05 , Progress:39.6%, completed 19 out of 48 items "
     ]
    },
    {
     "name": "stdout",
     "output_type": "stream",
     "text": [
      "\r Time_lapsed (hr:mm:ss) --> 00:00:05 , Progress:41.7%, completed 20 out of 48 items "
     ]
    },
    {
     "name": "stdout",
     "output_type": "stream",
     "text": [
      "\r Time_lapsed (hr:mm:ss) --> 00:00:05 , Progress:43.8%, completed 21 out of 48 items "
     ]
    },
    {
     "name": "stdout",
     "output_type": "stream",
     "text": [
      "\r Time_lapsed (hr:mm:ss) --> 00:00:05 , Progress:45.8%, completed 22 out of 48 items "
     ]
    },
    {
     "name": "stdout",
     "output_type": "stream",
     "text": [
      "\r Time_lapsed (hr:mm:ss) --> 00:00:06 , Progress:47.9%, completed 23 out of 48 items "
     ]
    },
    {
     "name": "stdout",
     "output_type": "stream",
     "text": [
      "\r Time_lapsed (hr:mm:ss) --> 00:00:06 , Progress:50.0%, completed 24 out of 48 items "
     ]
    },
    {
     "name": "stdout",
     "output_type": "stream",
     "text": [
      "\r Time_lapsed (hr:mm:ss) --> 00:00:06 , Progress:52.1%, completed 25 out of 48 items "
     ]
    },
    {
     "name": "stdout",
     "output_type": "stream",
     "text": [
      "\r Time_lapsed (hr:mm:ss) --> 00:00:06 , Progress:54.2%, completed 26 out of 48 items "
     ]
    },
    {
     "name": "stdout",
     "output_type": "stream",
     "text": [
      "\r Time_lapsed (hr:mm:ss) --> 00:00:06 , Progress:56.2%, completed 27 out of 48 items "
     ]
    },
    {
     "name": "stdout",
     "output_type": "stream",
     "text": [
      "\r Time_lapsed (hr:mm:ss) --> 00:00:07 , Progress:58.3%, completed 28 out of 48 items "
     ]
    },
    {
     "name": "stdout",
     "output_type": "stream",
     "text": [
      "\r Time_lapsed (hr:mm:ss) --> 00:00:07 , Progress:60.4%, completed 29 out of 48 items "
     ]
    },
    {
     "name": "stdout",
     "output_type": "stream",
     "text": [
      "\r Time_lapsed (hr:mm:ss) --> 00:00:07 , Progress:62.5%, completed 30 out of 48 items "
     ]
    },
    {
     "name": "stdout",
     "output_type": "stream",
     "text": [
      "\r Time_lapsed (hr:mm:ss) --> 00:00:08 , Progress:64.6%, completed 31 out of 48 items "
     ]
    },
    {
     "name": "stdout",
     "output_type": "stream",
     "text": [
      "\r Time_lapsed (hr:mm:ss) --> 00:00:08 , Progress:66.7%, completed 32 out of 48 items "
     ]
    },
    {
     "name": "stdout",
     "output_type": "stream",
     "text": [
      "\r Time_lapsed (hr:mm:ss) --> 00:00:08 , Progress:68.8%, completed 33 out of 48 items "
     ]
    },
    {
     "name": "stdout",
     "output_type": "stream",
     "text": [
      "\r Time_lapsed (hr:mm:ss) --> 00:00:08 , Progress:70.8%, completed 34 out of 48 items "
     ]
    },
    {
     "name": "stdout",
     "output_type": "stream",
     "text": [
      "\r Time_lapsed (hr:mm:ss) --> 00:00:08 , Progress:72.9%, completed 35 out of 48 items "
     ]
    },
    {
     "name": "stdout",
     "output_type": "stream",
     "text": [
      "\r Time_lapsed (hr:mm:ss) --> 00:00:09 , Progress:75.0%, completed 36 out of 48 items "
     ]
    },
    {
     "name": "stdout",
     "output_type": "stream",
     "text": [
      "\r Time_lapsed (hr:mm:ss) --> 00:00:09 , Progress:77.1%, completed 37 out of 48 items "
     ]
    },
    {
     "name": "stdout",
     "output_type": "stream",
     "text": [
      "\r Time_lapsed (hr:mm:ss) --> 00:00:09 , Progress:79.2%, completed 38 out of 48 items "
     ]
    },
    {
     "name": "stdout",
     "output_type": "stream",
     "text": [
      "\r Time_lapsed (hr:mm:ss) --> 00:00:09 , Progress:81.2%, completed 39 out of 48 items "
     ]
    },
    {
     "name": "stdout",
     "output_type": "stream",
     "text": [
      "\r Time_lapsed (hr:mm:ss) --> 00:00:10 , Progress:83.3%, completed 40 out of 48 items "
     ]
    },
    {
     "name": "stdout",
     "output_type": "stream",
     "text": [
      "\r Time_lapsed (hr:mm:ss) --> 00:00:10 , Progress:85.4%, completed 41 out of 48 items "
     ]
    },
    {
     "name": "stdout",
     "output_type": "stream",
     "text": [
      "\r Time_lapsed (hr:mm:ss) --> 00:00:10 , Progress:87.5%, completed 42 out of 48 items "
     ]
    },
    {
     "name": "stdout",
     "output_type": "stream",
     "text": [
      "\r Time_lapsed (hr:mm:ss) --> 00:00:10 , Progress:89.6%, completed 43 out of 48 items "
     ]
    },
    {
     "name": "stdout",
     "output_type": "stream",
     "text": [
      "\r Time_lapsed (hr:mm:ss) --> 00:00:10 , Progress:91.7%, completed 44 out of 48 items "
     ]
    },
    {
     "name": "stdout",
     "output_type": "stream",
     "text": [
      "\r Time_lapsed (hr:mm:ss) --> 00:00:10 , Progress:93.8%, completed 45 out of 48 items "
     ]
    },
    {
     "name": "stdout",
     "output_type": "stream",
     "text": [
      "\r Time_lapsed (hr:mm:ss) --> 00:00:10 , Progress:95.8%, completed 46 out of 48 items "
     ]
    },
    {
     "name": "stdout",
     "output_type": "stream",
     "text": [
      "\r Time_lapsed (hr:mm:ss) --> 00:00:11 , Progress:97.9%, completed 47 out of 48 items "
     ]
    },
    {
     "name": "stdout",
     "output_type": "stream",
     "text": [
      "\r Time_lapsed (hr:mm:ss) --> 00:00:11 , Progress:100.0%, completed 48 out of 48 items "
     ]
    }
   ],
   "source": [
    "mass_prd = []\n",
    "instant_mass = []\n",
    "sum_x = 0\n",
    "start = time.time()\n",
    "items = len(Log_name_t)\n",
    "for i, log in (enumerate(Log_name_t)):\n",
    "    for j, v in enumerate(Volume_t[i]):\n",
    "        x = (model_pos(np.float(v)) * Speed_t[i][j])\n",
    "        instant_mass.append(x)\n",
    "        sum_x += x\n",
    "    mass_prd.append([Log_name_t[i], ground_truth_t[i], np.squeeze(sum_x.numpy()), np.array(instant_mass[0:len(instant_mass)])])\n",
    "    instant_mass.clear()\n",
    "    sum_x = 0\n",
    "    end = time.time() - start\n",
    "    print_progress(i+1, items, end)\n",
    "np.save(MAIN_dir+'Signals/instant_mass_prd_test_named.npy', mass_prd)"
   ]
  },
  {
   "cell_type": "code",
   "execution_count": 64,
   "metadata": {
    "collapsed": false
   },
   "outputs": [
    {
     "name": "stdout",
     "output_type": "stream",
     "text": [
      "\r Time_lapsed (hr:mm:ss) --> 00:00:00 , Progress:0.7%, completed 1 out of 143 items "
     ]
    },
    {
     "name": "stdout",
     "output_type": "stream",
     "text": [
      "\r Time_lapsed (hr:mm:ss) --> 00:00:00 , Progress:1.4%, completed 2 out of 143 items "
     ]
    },
    {
     "name": "stdout",
     "output_type": "stream",
     "text": [
      "\r Time_lapsed (hr:mm:ss) --> 00:00:00 , Progress:2.1%, completed 3 out of 143 items "
     ]
    },
    {
     "name": "stdout",
     "output_type": "stream",
     "text": [
      "\r Time_lapsed (hr:mm:ss) --> 00:00:01 , Progress:2.8%, completed 4 out of 143 items "
     ]
    },
    {
     "name": "stdout",
     "output_type": "stream",
     "text": [
      "\r Time_lapsed (hr:mm:ss) --> 00:00:01 , Progress:3.5%, completed 5 out of 143 items "
     ]
    },
    {
     "name": "stdout",
     "output_type": "stream",
     "text": [
      "\r Time_lapsed (hr:mm:ss) --> 00:00:01 , Progress:4.2%, completed 6 out of 143 items "
     ]
    },
    {
     "name": "stdout",
     "output_type": "stream",
     "text": [
      "\r Time_lapsed (hr:mm:ss) --> 00:00:02 , Progress:4.9%, completed 7 out of 143 items "
     ]
    },
    {
     "name": "stdout",
     "output_type": "stream",
     "text": [
      "\r Time_lapsed (hr:mm:ss) --> 00:00:02 , Progress:5.6%, completed 8 out of 143 items "
     ]
    },
    {
     "name": "stdout",
     "output_type": "stream",
     "text": [
      "\r Time_lapsed (hr:mm:ss) --> 00:00:02 , Progress:6.3%, completed 9 out of 143 items "
     ]
    },
    {
     "name": "stdout",
     "output_type": "stream",
     "text": [
      "\r Time_lapsed (hr:mm:ss) --> 00:00:02 , Progress:7.0%, completed 10 out of 143 items "
     ]
    },
    {
     "name": "stdout",
     "output_type": "stream",
     "text": [
      "\r Time_lapsed (hr:mm:ss) --> 00:00:03 , Progress:7.7%, completed 11 out of 143 items "
     ]
    },
    {
     "name": "stdout",
     "output_type": "stream",
     "text": [
      "\r Time_lapsed (hr:mm:ss) --> 00:00:03 , Progress:8.4%, completed 12 out of 143 items "
     ]
    },
    {
     "name": "stdout",
     "output_type": "stream",
     "text": [
      "\r Time_lapsed (hr:mm:ss) --> 00:00:03 , Progress:9.1%, completed 13 out of 143 items "
     ]
    },
    {
     "name": "stdout",
     "output_type": "stream",
     "text": [
      "\r Time_lapsed (hr:mm:ss) --> 00:00:03 , Progress:9.8%, completed 14 out of 143 items "
     ]
    },
    {
     "name": "stdout",
     "output_type": "stream",
     "text": [
      "\r Time_lapsed (hr:mm:ss) --> 00:00:03 , Progress:10.5%, completed 15 out of 143 items "
     ]
    },
    {
     "name": "stdout",
     "output_type": "stream",
     "text": [
      "\r Time_lapsed (hr:mm:ss) --> 00:00:04 , Progress:11.2%, completed 16 out of 143 items "
     ]
    },
    {
     "name": "stdout",
     "output_type": "stream",
     "text": [
      "\r Time_lapsed (hr:mm:ss) --> 00:00:04 , Progress:11.9%, completed 17 out of 143 items "
     ]
    },
    {
     "name": "stdout",
     "output_type": "stream",
     "text": [
      "\r Time_lapsed (hr:mm:ss) --> 00:00:04 , Progress:12.6%, completed 18 out of 143 items "
     ]
    },
    {
     "name": "stdout",
     "output_type": "stream",
     "text": [
      "\r Time_lapsed (hr:mm:ss) --> 00:00:04 , Progress:13.3%, completed 19 out of 143 items "
     ]
    },
    {
     "name": "stdout",
     "output_type": "stream",
     "text": [
      "\r Time_lapsed (hr:mm:ss) --> 00:00:05 , Progress:14.0%, completed 20 out of 143 items "
     ]
    },
    {
     "name": "stdout",
     "output_type": "stream",
     "text": [
      "\r Time_lapsed (hr:mm:ss) --> 00:00:05 , Progress:14.7%, completed 21 out of 143 items "
     ]
    },
    {
     "name": "stdout",
     "output_type": "stream",
     "text": [
      "\r Time_lapsed (hr:mm:ss) --> 00:00:05 , Progress:15.4%, completed 22 out of 143 items "
     ]
    },
    {
     "name": "stdout",
     "output_type": "stream",
     "text": [
      "\r Time_lapsed (hr:mm:ss) --> 00:00:05 , Progress:16.1%, completed 23 out of 143 items "
     ]
    },
    {
     "name": "stdout",
     "output_type": "stream",
     "text": [
      "\r Time_lapsed (hr:mm:ss) --> 00:00:06 , Progress:16.8%, completed 24 out of 143 items "
     ]
    },
    {
     "name": "stdout",
     "output_type": "stream",
     "text": [
      "\r Time_lapsed (hr:mm:ss) --> 00:00:06 , Progress:17.5%, completed 25 out of 143 items "
     ]
    },
    {
     "name": "stdout",
     "output_type": "stream",
     "text": [
      "\r Time_lapsed (hr:mm:ss) --> 00:00:06 , Progress:18.2%, completed 26 out of 143 items "
     ]
    },
    {
     "name": "stdout",
     "output_type": "stream",
     "text": [
      "\r Time_lapsed (hr:mm:ss) --> 00:00:07 , Progress:18.9%, completed 27 out of 143 items "
     ]
    },
    {
     "name": "stdout",
     "output_type": "stream",
     "text": [
      "\r Time_lapsed (hr:mm:ss) --> 00:00:07 , Progress:19.6%, completed 28 out of 143 items "
     ]
    },
    {
     "name": "stdout",
     "output_type": "stream",
     "text": [
      "\r Time_lapsed (hr:mm:ss) --> 00:00:07 , Progress:20.3%, completed 29 out of 143 items "
     ]
    },
    {
     "name": "stdout",
     "output_type": "stream",
     "text": [
      "\r Time_lapsed (hr:mm:ss) --> 00:00:07 , Progress:21.0%, completed 30 out of 143 items "
     ]
    },
    {
     "name": "stdout",
     "output_type": "stream",
     "text": [
      "\r Time_lapsed (hr:mm:ss) --> 00:00:08 , Progress:21.7%, completed 31 out of 143 items "
     ]
    },
    {
     "name": "stdout",
     "output_type": "stream",
     "text": [
      "\r Time_lapsed (hr:mm:ss) --> 00:00:08 , Progress:22.4%, completed 32 out of 143 items "
     ]
    },
    {
     "name": "stdout",
     "output_type": "stream",
     "text": [
      "\r Time_lapsed (hr:mm:ss) --> 00:00:08 , Progress:23.1%, completed 33 out of 143 items "
     ]
    },
    {
     "name": "stdout",
     "output_type": "stream",
     "text": [
      "\r Time_lapsed (hr:mm:ss) --> 00:00:08 , Progress:23.8%, completed 34 out of 143 items "
     ]
    },
    {
     "name": "stdout",
     "output_type": "stream",
     "text": [
      "\r Time_lapsed (hr:mm:ss) --> 00:00:09 , Progress:24.5%, completed 35 out of 143 items "
     ]
    },
    {
     "name": "stdout",
     "output_type": "stream",
     "text": [
      "\r Time_lapsed (hr:mm:ss) --> 00:00:09 , Progress:25.2%, completed 36 out of 143 items "
     ]
    },
    {
     "name": "stdout",
     "output_type": "stream",
     "text": [
      "\r Time_lapsed (hr:mm:ss) --> 00:00:09 , Progress:25.9%, completed 37 out of 143 items "
     ]
    },
    {
     "name": "stdout",
     "output_type": "stream",
     "text": [
      "\r Time_lapsed (hr:mm:ss) --> 00:00:10 , Progress:26.6%, completed 38 out of 143 items "
     ]
    },
    {
     "name": "stdout",
     "output_type": "stream",
     "text": [
      "\r Time_lapsed (hr:mm:ss) --> 00:00:10 , Progress:27.3%, completed 39 out of 143 items "
     ]
    },
    {
     "name": "stdout",
     "output_type": "stream",
     "text": [
      "\r Time_lapsed (hr:mm:ss) --> 00:00:10 , Progress:28.0%, completed 40 out of 143 items "
     ]
    },
    {
     "name": "stdout",
     "output_type": "stream",
     "text": [
      "\r Time_lapsed (hr:mm:ss) --> 00:00:10 , Progress:28.7%, completed 41 out of 143 items "
     ]
    },
    {
     "name": "stdout",
     "output_type": "stream",
     "text": [
      "\r Time_lapsed (hr:mm:ss) --> 00:00:11 , Progress:29.4%, completed 42 out of 143 items "
     ]
    },
    {
     "name": "stdout",
     "output_type": "stream",
     "text": [
      "\r Time_lapsed (hr:mm:ss) --> 00:00:11 , Progress:30.1%, completed 43 out of 143 items "
     ]
    },
    {
     "name": "stdout",
     "output_type": "stream",
     "text": [
      "\r Time_lapsed (hr:mm:ss) --> 00:00:11 , Progress:30.8%, completed 44 out of 143 items "
     ]
    },
    {
     "name": "stdout",
     "output_type": "stream",
     "text": [
      "\r Time_lapsed (hr:mm:ss) --> 00:00:11 , Progress:31.5%, completed 45 out of 143 items "
     ]
    },
    {
     "name": "stdout",
     "output_type": "stream",
     "text": [
      "\r Time_lapsed (hr:mm:ss) --> 00:00:11 , Progress:32.2%, completed 46 out of 143 items "
     ]
    },
    {
     "name": "stdout",
     "output_type": "stream",
     "text": [
      "\r Time_lapsed (hr:mm:ss) --> 00:00:12 , Progress:32.9%, completed 47 out of 143 items "
     ]
    },
    {
     "name": "stdout",
     "output_type": "stream",
     "text": [
      "\r Time_lapsed (hr:mm:ss) --> 00:00:12 , Progress:33.6%, completed 48 out of 143 items "
     ]
    },
    {
     "name": "stdout",
     "output_type": "stream",
     "text": [
      "\r Time_lapsed (hr:mm:ss) --> 00:00:12 , Progress:34.3%, completed 49 out of 143 items "
     ]
    },
    {
     "name": "stdout",
     "output_type": "stream",
     "text": [
      "\r Time_lapsed (hr:mm:ss) --> 00:00:13 , Progress:35.0%, completed 50 out of 143 items "
     ]
    },
    {
     "name": "stdout",
     "output_type": "stream",
     "text": [
      "\r Time_lapsed (hr:mm:ss) --> 00:00:13 , Progress:35.7%, completed 51 out of 143 items "
     ]
    },
    {
     "name": "stdout",
     "output_type": "stream",
     "text": [
      "\r Time_lapsed (hr:mm:ss) --> 00:00:13 , Progress:36.4%, completed 52 out of 143 items "
     ]
    },
    {
     "name": "stdout",
     "output_type": "stream",
     "text": [
      "\r Time_lapsed (hr:mm:ss) --> 00:00:13 , Progress:37.1%, completed 53 out of 143 items "
     ]
    },
    {
     "name": "stdout",
     "output_type": "stream",
     "text": [
      "\r Time_lapsed (hr:mm:ss) --> 00:00:14 , Progress:37.8%, completed 54 out of 143 items "
     ]
    },
    {
     "name": "stdout",
     "output_type": "stream",
     "text": [
      "\r Time_lapsed (hr:mm:ss) --> 00:00:14 , Progress:38.5%, completed 55 out of 143 items "
     ]
    },
    {
     "name": "stdout",
     "output_type": "stream",
     "text": [
      "\r Time_lapsed (hr:mm:ss) --> 00:00:14 , Progress:39.2%, completed 56 out of 143 items "
     ]
    },
    {
     "name": "stdout",
     "output_type": "stream",
     "text": [
      "\r Time_lapsed (hr:mm:ss) --> 00:00:16 , Progress:39.9%, completed 57 out of 143 items "
     ]
    },
    {
     "name": "stdout",
     "output_type": "stream",
     "text": [
      "\r Time_lapsed (hr:mm:ss) --> 00:00:16 , Progress:40.6%, completed 58 out of 143 items "
     ]
    },
    {
     "name": "stdout",
     "output_type": "stream",
     "text": [
      "\r Time_lapsed (hr:mm:ss) --> 00:00:17 , Progress:41.3%, completed 59 out of 143 items "
     ]
    },
    {
     "name": "stdout",
     "output_type": "stream",
     "text": [
      "\r Time_lapsed (hr:mm:ss) --> 00:00:17 , Progress:42.0%, completed 60 out of 143 items "
     ]
    },
    {
     "name": "stdout",
     "output_type": "stream",
     "text": [
      "\r Time_lapsed (hr:mm:ss) --> 00:00:17 , Progress:42.7%, completed 61 out of 143 items "
     ]
    },
    {
     "name": "stdout",
     "output_type": "stream",
     "text": [
      "\r Time_lapsed (hr:mm:ss) --> 00:00:17 , Progress:43.4%, completed 62 out of 143 items "
     ]
    },
    {
     "name": "stdout",
     "output_type": "stream",
     "text": [
      "\r Time_lapsed (hr:mm:ss) --> 00:00:17 , Progress:44.1%, completed 63 out of 143 items "
     ]
    },
    {
     "name": "stdout",
     "output_type": "stream",
     "text": [
      "\r Time_lapsed (hr:mm:ss) --> 00:00:18 , Progress:44.8%, completed 64 out of 143 items "
     ]
    },
    {
     "name": "stdout",
     "output_type": "stream",
     "text": [
      "\r Time_lapsed (hr:mm:ss) --> 00:00:18 , Progress:45.5%, completed 65 out of 143 items "
     ]
    },
    {
     "name": "stdout",
     "output_type": "stream",
     "text": [
      "\r Time_lapsed (hr:mm:ss) --> 00:00:18 , Progress:46.2%, completed 66 out of 143 items "
     ]
    },
    {
     "name": "stdout",
     "output_type": "stream",
     "text": [
      "\r Time_lapsed (hr:mm:ss) --> 00:00:19 , Progress:46.9%, completed 67 out of 143 items "
     ]
    },
    {
     "name": "stdout",
     "output_type": "stream",
     "text": [
      "\r Time_lapsed (hr:mm:ss) --> 00:00:19 , Progress:47.6%, completed 68 out of 143 items "
     ]
    },
    {
     "name": "stdout",
     "output_type": "stream",
     "text": [
      "\r Time_lapsed (hr:mm:ss) --> 00:00:19 , Progress:48.3%, completed 69 out of 143 items "
     ]
    },
    {
     "name": "stdout",
     "output_type": "stream",
     "text": [
      "\r Time_lapsed (hr:mm:ss) --> 00:00:19 , Progress:49.0%, completed 70 out of 143 items "
     ]
    },
    {
     "name": "stdout",
     "output_type": "stream",
     "text": [
      "\r Time_lapsed (hr:mm:ss) --> 00:00:20 , Progress:49.7%, completed 71 out of 143 items "
     ]
    },
    {
     "name": "stdout",
     "output_type": "stream",
     "text": [
      "\r Time_lapsed (hr:mm:ss) --> 00:00:20 , Progress:50.3%, completed 72 out of 143 items "
     ]
    },
    {
     "name": "stdout",
     "output_type": "stream",
     "text": [
      "\r Time_lapsed (hr:mm:ss) --> 00:00:20 , Progress:51.0%, completed 73 out of 143 items "
     ]
    },
    {
     "name": "stdout",
     "output_type": "stream",
     "text": [
      "\r Time_lapsed (hr:mm:ss) --> 00:00:20 , Progress:51.7%, completed 74 out of 143 items "
     ]
    },
    {
     "name": "stdout",
     "output_type": "stream",
     "text": [
      "\r Time_lapsed (hr:mm:ss) --> 00:00:21 , Progress:52.4%, completed 75 out of 143 items "
     ]
    },
    {
     "name": "stdout",
     "output_type": "stream",
     "text": [
      "\r Time_lapsed (hr:mm:ss) --> 00:00:21 , Progress:53.1%, completed 76 out of 143 items "
     ]
    },
    {
     "name": "stdout",
     "output_type": "stream",
     "text": [
      "\r Time_lapsed (hr:mm:ss) --> 00:00:21 , Progress:53.8%, completed 77 out of 143 items "
     ]
    },
    {
     "name": "stdout",
     "output_type": "stream",
     "text": [
      "\r Time_lapsed (hr:mm:ss) --> 00:00:21 , Progress:54.5%, completed 78 out of 143 items "
     ]
    },
    {
     "name": "stdout",
     "output_type": "stream",
     "text": [
      "\r Time_lapsed (hr:mm:ss) --> 00:00:21 , Progress:55.2%, completed 79 out of 143 items "
     ]
    },
    {
     "name": "stdout",
     "output_type": "stream",
     "text": [
      "\r Time_lapsed (hr:mm:ss) --> 00:00:21 , Progress:55.9%, completed 80 out of 143 items "
     ]
    },
    {
     "name": "stdout",
     "output_type": "stream",
     "text": [
      "\r Time_lapsed (hr:mm:ss) --> 00:00:22 , Progress:56.6%, completed 81 out of 143 items "
     ]
    },
    {
     "name": "stdout",
     "output_type": "stream",
     "text": [
      "\r Time_lapsed (hr:mm:ss) --> 00:00:22 , Progress:57.3%, completed 82 out of 143 items "
     ]
    },
    {
     "name": "stdout",
     "output_type": "stream",
     "text": [
      "\r Time_lapsed (hr:mm:ss) --> 00:00:23 , Progress:58.0%, completed 83 out of 143 items "
     ]
    },
    {
     "name": "stdout",
     "output_type": "stream",
     "text": [
      "\r Time_lapsed (hr:mm:ss) --> 00:00:23 , Progress:58.7%, completed 84 out of 143 items "
     ]
    },
    {
     "name": "stdout",
     "output_type": "stream",
     "text": [
      "\r Time_lapsed (hr:mm:ss) --> 00:00:23 , Progress:59.4%, completed 85 out of 143 items "
     ]
    },
    {
     "name": "stdout",
     "output_type": "stream",
     "text": [
      "\r Time_lapsed (hr:mm:ss) --> 00:00:23 , Progress:60.1%, completed 86 out of 143 items "
     ]
    },
    {
     "name": "stdout",
     "output_type": "stream",
     "text": [
      "\r Time_lapsed (hr:mm:ss) --> 00:00:23 , Progress:60.8%, completed 87 out of 143 items "
     ]
    },
    {
     "name": "stdout",
     "output_type": "stream",
     "text": [
      "\r Time_lapsed (hr:mm:ss) --> 00:00:24 , Progress:61.5%, completed 88 out of 143 items "
     ]
    },
    {
     "name": "stdout",
     "output_type": "stream",
     "text": [
      "\r Time_lapsed (hr:mm:ss) --> 00:00:24 , Progress:62.2%, completed 89 out of 143 items "
     ]
    },
    {
     "name": "stdout",
     "output_type": "stream",
     "text": [
      "\r Time_lapsed (hr:mm:ss) --> 00:00:24 , Progress:62.9%, completed 90 out of 143 items "
     ]
    },
    {
     "name": "stdout",
     "output_type": "stream",
     "text": [
      "\r Time_lapsed (hr:mm:ss) --> 00:00:24 , Progress:63.6%, completed 91 out of 143 items "
     ]
    },
    {
     "name": "stdout",
     "output_type": "stream",
     "text": [
      "\r Time_lapsed (hr:mm:ss) --> 00:00:25 , Progress:64.3%, completed 92 out of 143 items "
     ]
    },
    {
     "name": "stdout",
     "output_type": "stream",
     "text": [
      "\r Time_lapsed (hr:mm:ss) --> 00:00:25 , Progress:65.0%, completed 93 out of 143 items "
     ]
    },
    {
     "name": "stdout",
     "output_type": "stream",
     "text": [
      "\r Time_lapsed (hr:mm:ss) --> 00:00:25 , Progress:65.7%, completed 94 out of 143 items "
     ]
    },
    {
     "name": "stdout",
     "output_type": "stream",
     "text": [
      "\r Time_lapsed (hr:mm:ss) --> 00:00:26 , Progress:66.4%, completed 95 out of 143 items "
     ]
    },
    {
     "name": "stdout",
     "output_type": "stream",
     "text": [
      "\r Time_lapsed (hr:mm:ss) --> 00:00:26 , Progress:67.1%, completed 96 out of 143 items "
     ]
    },
    {
     "name": "stdout",
     "output_type": "stream",
     "text": [
      "\r Time_lapsed (hr:mm:ss) --> 00:00:26 , Progress:67.8%, completed 97 out of 143 items "
     ]
    },
    {
     "name": "stdout",
     "output_type": "stream",
     "text": [
      "\r Time_lapsed (hr:mm:ss) --> 00:00:26 , Progress:68.5%, completed 98 out of 143 items "
     ]
    },
    {
     "name": "stdout",
     "output_type": "stream",
     "text": [
      "\r Time_lapsed (hr:mm:ss) --> 00:00:26 , Progress:69.2%, completed 99 out of 143 items "
     ]
    },
    {
     "name": "stdout",
     "output_type": "stream",
     "text": [
      "\r Time_lapsed (hr:mm:ss) --> 00:00:27 , Progress:69.9%, completed 100 out of 143 items "
     ]
    },
    {
     "name": "stdout",
     "output_type": "stream",
     "text": [
      "\r Time_lapsed (hr:mm:ss) --> 00:00:27 , Progress:70.6%, completed 101 out of 143 items "
     ]
    },
    {
     "name": "stdout",
     "output_type": "stream",
     "text": [
      "\r Time_lapsed (hr:mm:ss) --> 00:00:28 , Progress:71.3%, completed 102 out of 143 items "
     ]
    },
    {
     "name": "stdout",
     "output_type": "stream",
     "text": [
      "\r Time_lapsed (hr:mm:ss) --> 00:00:28 , Progress:72.0%, completed 103 out of 143 items "
     ]
    },
    {
     "name": "stdout",
     "output_type": "stream",
     "text": [
      "\r Time_lapsed (hr:mm:ss) --> 00:00:28 , Progress:72.7%, completed 104 out of 143 items "
     ]
    },
    {
     "name": "stdout",
     "output_type": "stream",
     "text": [
      "\r Time_lapsed (hr:mm:ss) --> 00:00:29 , Progress:73.4%, completed 105 out of 143 items "
     ]
    },
    {
     "name": "stdout",
     "output_type": "stream",
     "text": [
      "\r Time_lapsed (hr:mm:ss) --> 00:00:29 , Progress:74.1%, completed 106 out of 143 items "
     ]
    },
    {
     "name": "stdout",
     "output_type": "stream",
     "text": [
      "\r Time_lapsed (hr:mm:ss) --> 00:00:29 , Progress:74.8%, completed 107 out of 143 items "
     ]
    },
    {
     "name": "stdout",
     "output_type": "stream",
     "text": [
      "\r Time_lapsed (hr:mm:ss) --> 00:00:29 , Progress:75.5%, completed 108 out of 143 items "
     ]
    },
    {
     "name": "stdout",
     "output_type": "stream",
     "text": [
      "\r Time_lapsed (hr:mm:ss) --> 00:00:29 , Progress:76.2%, completed 109 out of 143 items "
     ]
    },
    {
     "name": "stdout",
     "output_type": "stream",
     "text": [
      "\r Time_lapsed (hr:mm:ss) --> 00:00:30 , Progress:76.9%, completed 110 out of 143 items "
     ]
    },
    {
     "name": "stdout",
     "output_type": "stream",
     "text": [
      "\r Time_lapsed (hr:mm:ss) --> 00:00:30 , Progress:77.6%, completed 111 out of 143 items "
     ]
    },
    {
     "name": "stdout",
     "output_type": "stream",
     "text": [
      "\r Time_lapsed (hr:mm:ss) --> 00:00:30 , Progress:78.3%, completed 112 out of 143 items "
     ]
    },
    {
     "name": "stdout",
     "output_type": "stream",
     "text": [
      "\r Time_lapsed (hr:mm:ss) --> 00:00:30 , Progress:79.0%, completed 113 out of 143 items "
     ]
    },
    {
     "name": "stdout",
     "output_type": "stream",
     "text": [
      "\r Time_lapsed (hr:mm:ss) --> 00:00:31 , Progress:79.7%, completed 114 out of 143 items "
     ]
    },
    {
     "name": "stdout",
     "output_type": "stream",
     "text": [
      "\r Time_lapsed (hr:mm:ss) --> 00:00:31 , Progress:80.4%, completed 115 out of 143 items "
     ]
    },
    {
     "name": "stdout",
     "output_type": "stream",
     "text": [
      "\r Time_lapsed (hr:mm:ss) --> 00:00:31 , Progress:81.1%, completed 116 out of 143 items "
     ]
    },
    {
     "name": "stdout",
     "output_type": "stream",
     "text": [
      "\r Time_lapsed (hr:mm:ss) --> 00:00:31 , Progress:81.8%, completed 117 out of 143 items "
     ]
    },
    {
     "name": "stdout",
     "output_type": "stream",
     "text": [
      "\r Time_lapsed (hr:mm:ss) --> 00:00:32 , Progress:82.5%, completed 118 out of 143 items "
     ]
    },
    {
     "name": "stdout",
     "output_type": "stream",
     "text": [
      "\r Time_lapsed (hr:mm:ss) --> 00:00:32 , Progress:83.2%, completed 119 out of 143 items "
     ]
    },
    {
     "name": "stdout",
     "output_type": "stream",
     "text": [
      "\r Time_lapsed (hr:mm:ss) --> 00:00:32 , Progress:83.9%, completed 120 out of 143 items "
     ]
    },
    {
     "name": "stdout",
     "output_type": "stream",
     "text": [
      "\r Time_lapsed (hr:mm:ss) --> 00:00:32 , Progress:84.6%, completed 121 out of 143 items "
     ]
    },
    {
     "name": "stdout",
     "output_type": "stream",
     "text": [
      "\r Time_lapsed (hr:mm:ss) --> 00:00:32 , Progress:85.3%, completed 122 out of 143 items "
     ]
    },
    {
     "name": "stdout",
     "output_type": "stream",
     "text": [
      "\r Time_lapsed (hr:mm:ss) --> 00:00:33 , Progress:86.0%, completed 123 out of 143 items "
     ]
    },
    {
     "name": "stdout",
     "output_type": "stream",
     "text": [
      "\r Time_lapsed (hr:mm:ss) --> 00:00:33 , Progress:86.7%, completed 124 out of 143 items "
     ]
    },
    {
     "name": "stdout",
     "output_type": "stream",
     "text": [
      "\r Time_lapsed (hr:mm:ss) --> 00:00:33 , Progress:87.4%, completed 125 out of 143 items "
     ]
    },
    {
     "name": "stdout",
     "output_type": "stream",
     "text": [
      "\r Time_lapsed (hr:mm:ss) --> 00:00:33 , Progress:88.1%, completed 126 out of 143 items "
     ]
    },
    {
     "name": "stdout",
     "output_type": "stream",
     "text": [
      "\r Time_lapsed (hr:mm:ss) --> 00:00:33 , Progress:88.8%, completed 127 out of 143 items "
     ]
    },
    {
     "name": "stdout",
     "output_type": "stream",
     "text": [
      "\r Time_lapsed (hr:mm:ss) --> 00:00:33 , Progress:89.5%, completed 128 out of 143 items "
     ]
    },
    {
     "name": "stdout",
     "output_type": "stream",
     "text": [
      "\r Time_lapsed (hr:mm:ss) --> 00:00:33 , Progress:90.2%, completed 129 out of 143 items "
     ]
    },
    {
     "name": "stdout",
     "output_type": "stream",
     "text": [
      "\r Time_lapsed (hr:mm:ss) --> 00:00:34 , Progress:90.9%, completed 130 out of 143 items "
     ]
    },
    {
     "name": "stdout",
     "output_type": "stream",
     "text": [
      "\r Time_lapsed (hr:mm:ss) --> 00:00:34 , Progress:91.6%, completed 131 out of 143 items "
     ]
    },
    {
     "name": "stdout",
     "output_type": "stream",
     "text": [
      "\r Time_lapsed (hr:mm:ss) --> 00:00:34 , Progress:92.3%, completed 132 out of 143 items "
     ]
    },
    {
     "name": "stdout",
     "output_type": "stream",
     "text": [
      "\r Time_lapsed (hr:mm:ss) --> 00:00:35 , Progress:93.0%, completed 133 out of 143 items "
     ]
    },
    {
     "name": "stdout",
     "output_type": "stream",
     "text": [
      "\r Time_lapsed (hr:mm:ss) --> 00:00:35 , Progress:93.7%, completed 134 out of 143 items "
     ]
    },
    {
     "name": "stdout",
     "output_type": "stream",
     "text": [
      "\r Time_lapsed (hr:mm:ss) --> 00:00:35 , Progress:94.4%, completed 135 out of 143 items "
     ]
    },
    {
     "name": "stdout",
     "output_type": "stream",
     "text": [
      "\r Time_lapsed (hr:mm:ss) --> 00:00:36 , Progress:95.1%, completed 136 out of 143 items "
     ]
    },
    {
     "name": "stdout",
     "output_type": "stream",
     "text": [
      "\r Time_lapsed (hr:mm:ss) --> 00:00:36 , Progress:95.8%, completed 137 out of 143 items "
     ]
    },
    {
     "name": "stdout",
     "output_type": "stream",
     "text": [
      "\r Time_lapsed (hr:mm:ss) --> 00:00:36 , Progress:96.5%, completed 138 out of 143 items "
     ]
    },
    {
     "name": "stdout",
     "output_type": "stream",
     "text": [
      "\r Time_lapsed (hr:mm:ss) --> 00:00:36 , Progress:97.2%, completed 139 out of 143 items "
     ]
    },
    {
     "name": "stdout",
     "output_type": "stream",
     "text": [
      "\r Time_lapsed (hr:mm:ss) --> 00:00:36 , Progress:97.9%, completed 140 out of 143 items "
     ]
    },
    {
     "name": "stdout",
     "output_type": "stream",
     "text": [
      "\r Time_lapsed (hr:mm:ss) --> 00:00:36 , Progress:98.6%, completed 141 out of 143 items "
     ]
    },
    {
     "name": "stdout",
     "output_type": "stream",
     "text": [
      "\r Time_lapsed (hr:mm:ss) --> 00:00:36 , Progress:99.3%, completed 142 out of 143 items "
     ]
    },
    {
     "name": "stdout",
     "output_type": "stream",
     "text": [
      "\r Time_lapsed (hr:mm:ss) --> 00:00:37 , Progress:100.0%, completed 143 out of 143 items "
     ]
    }
   ],
   "source": [
    "# train\n",
    "x = 0\n",
    "mass_prd = []\n",
    "instant_mass = []\n",
    "sum_x = 0\n",
    "start = time.time()\n",
    "items = len(Log_name_tr)\n",
    "for i, log in (enumerate(Log_name_tr)):\n",
    "    for j, v in enumerate(Volume_tr[i]):\n",
    "        x = (model_pos(np.float(v)) * Speed_tr[i][j])\n",
    "        instant_mass.append(x)\n",
    "        sum_x += x\n",
    "    mass_prd.append([Log_name_tr[i], ground_truth_tr[i], np.squeeze(sum_x.numpy()), np.array(instant_mass[0:len(instant_mass)])])\n",
    "    instant_mass.clear()\n",
    "    sum_x = 0\n",
    "    end = time.time() - start\n",
    "    print_progress(i+1, items, end)\n",
    "    \n",
    "np.save(MAIN_dir+'Signals/instant_mass_prd_train_named.npy', mass_prd)"
   ]
  },
  {
   "cell_type": "code",
   "execution_count": 65,
   "metadata": {},
   "outputs": [
    {
     "name": "stdout",
     "output_type": "stream",
     "text": [
      "\r Time_lapsed (hr:mm:ss) --> 00:00:00 , Progress:2.1%, completed 1 out of 48 items "
     ]
    },
    {
     "name": "stdout",
     "output_type": "stream",
     "text": [
      "\r Time_lapsed (hr:mm:ss) --> 00:00:00 , Progress:4.2%, completed 2 out of 48 items "
     ]
    },
    {
     "name": "stdout",
     "output_type": "stream",
     "text": [
      "\r Time_lapsed (hr:mm:ss) --> 00:00:00 , Progress:6.2%, completed 3 out of 48 items "
     ]
    },
    {
     "name": "stdout",
     "output_type": "stream",
     "text": [
      "\r Time_lapsed (hr:mm:ss) --> 00:00:01 , Progress:8.3%, completed 4 out of 48 items "
     ]
    },
    {
     "name": "stdout",
     "output_type": "stream",
     "text": [
      "\r Time_lapsed (hr:mm:ss) --> 00:00:01 , Progress:10.4%, completed 5 out of 48 items "
     ]
    },
    {
     "name": "stdout",
     "output_type": "stream",
     "text": [
      "\r Time_lapsed (hr:mm:ss) --> 00:00:01 , Progress:12.5%, completed 6 out of 48 items "
     ]
    },
    {
     "name": "stdout",
     "output_type": "stream",
     "text": [
      "\r Time_lapsed (hr:mm:ss) --> 00:00:01 , Progress:14.6%, completed 7 out of 48 items "
     ]
    },
    {
     "name": "stdout",
     "output_type": "stream",
     "text": [
      "\r Time_lapsed (hr:mm:ss) --> 00:00:02 , Progress:16.7%, completed 8 out of 48 items "
     ]
    },
    {
     "name": "stdout",
     "output_type": "stream",
     "text": [
      "\r Time_lapsed (hr:mm:ss) --> 00:00:02 , Progress:18.8%, completed 9 out of 48 items "
     ]
    },
    {
     "name": "stdout",
     "output_type": "stream",
     "text": [
      "\r Time_lapsed (hr:mm:ss) --> 00:00:03 , Progress:20.8%, completed 10 out of 48 items "
     ]
    },
    {
     "name": "stdout",
     "output_type": "stream",
     "text": [
      "\r Time_lapsed (hr:mm:ss) --> 00:00:03 , Progress:22.9%, completed 11 out of 48 items "
     ]
    },
    {
     "name": "stdout",
     "output_type": "stream",
     "text": [
      "\r Time_lapsed (hr:mm:ss) --> 00:00:03 , Progress:25.0%, completed 12 out of 48 items "
     ]
    },
    {
     "name": "stdout",
     "output_type": "stream",
     "text": [
      "\r Time_lapsed (hr:mm:ss) --> 00:00:03 , Progress:27.1%, completed 13 out of 48 items "
     ]
    },
    {
     "name": "stdout",
     "output_type": "stream",
     "text": [
      "\r Time_lapsed (hr:mm:ss) --> 00:00:04 , Progress:29.2%, completed 14 out of 48 items "
     ]
    },
    {
     "name": "stdout",
     "output_type": "stream",
     "text": [
      "\r Time_lapsed (hr:mm:ss) --> 00:00:04 , Progress:31.2%, completed 15 out of 48 items "
     ]
    },
    {
     "name": "stdout",
     "output_type": "stream",
     "text": [
      "\r Time_lapsed (hr:mm:ss) --> 00:00:04 , Progress:33.3%, completed 16 out of 48 items "
     ]
    },
    {
     "name": "stdout",
     "output_type": "stream",
     "text": [
      "\r Time_lapsed (hr:mm:ss) --> 00:00:04 , Progress:35.4%, completed 17 out of 48 items "
     ]
    },
    {
     "name": "stdout",
     "output_type": "stream",
     "text": [
      "\r Time_lapsed (hr:mm:ss) --> 00:00:05 , Progress:37.5%, completed 18 out of 48 items "
     ]
    },
    {
     "name": "stdout",
     "output_type": "stream",
     "text": [
      "\r Time_lapsed (hr:mm:ss) --> 00:00:05 , Progress:39.6%, completed 19 out of 48 items "
     ]
    },
    {
     "name": "stdout",
     "output_type": "stream",
     "text": [
      "\r Time_lapsed (hr:mm:ss) --> 00:00:05 , Progress:41.7%, completed 20 out of 48 items "
     ]
    },
    {
     "name": "stdout",
     "output_type": "stream",
     "text": [
      "\r Time_lapsed (hr:mm:ss) --> 00:00:06 , Progress:43.8%, completed 21 out of 48 items "
     ]
    },
    {
     "name": "stdout",
     "output_type": "stream",
     "text": [
      "\r Time_lapsed (hr:mm:ss) --> 00:00:06 , Progress:45.8%, completed 22 out of 48 items "
     ]
    },
    {
     "name": "stdout",
     "output_type": "stream",
     "text": [
      "\r Time_lapsed (hr:mm:ss) --> 00:00:06 , Progress:47.9%, completed 23 out of 48 items "
     ]
    },
    {
     "name": "stdout",
     "output_type": "stream",
     "text": [
      "\r Time_lapsed (hr:mm:ss) --> 00:00:06 , Progress:50.0%, completed 24 out of 48 items "
     ]
    },
    {
     "name": "stdout",
     "output_type": "stream",
     "text": [
      "\r Time_lapsed (hr:mm:ss) --> 00:00:06 , Progress:52.1%, completed 25 out of 48 items "
     ]
    },
    {
     "name": "stdout",
     "output_type": "stream",
     "text": [
      "\r Time_lapsed (hr:mm:ss) --> 00:00:07 , Progress:54.2%, completed 26 out of 48 items "
     ]
    },
    {
     "name": "stdout",
     "output_type": "stream",
     "text": [
      "\r Time_lapsed (hr:mm:ss) --> 00:00:07 , Progress:56.2%, completed 27 out of 48 items "
     ]
    },
    {
     "name": "stdout",
     "output_type": "stream",
     "text": [
      "\r Time_lapsed (hr:mm:ss) --> 00:00:07 , Progress:58.3%, completed 28 out of 48 items "
     ]
    },
    {
     "name": "stdout",
     "output_type": "stream",
     "text": [
      "\r Time_lapsed (hr:mm:ss) --> 00:00:08 , Progress:60.4%, completed 29 out of 48 items "
     ]
    },
    {
     "name": "stdout",
     "output_type": "stream",
     "text": [
      "\r Time_lapsed (hr:mm:ss) --> 00:00:08 , Progress:62.5%, completed 30 out of 48 items "
     ]
    },
    {
     "name": "stdout",
     "output_type": "stream",
     "text": [
      "\r Time_lapsed (hr:mm:ss) --> 00:00:08 , Progress:64.6%, completed 31 out of 48 items "
     ]
    },
    {
     "name": "stdout",
     "output_type": "stream",
     "text": [
      "\r Time_lapsed (hr:mm:ss) --> 00:00:09 , Progress:66.7%, completed 32 out of 48 items "
     ]
    },
    {
     "name": "stdout",
     "output_type": "stream",
     "text": [
      "\r Time_lapsed (hr:mm:ss) --> 00:00:10 , Progress:68.8%, completed 33 out of 48 items "
     ]
    },
    {
     "name": "stdout",
     "output_type": "stream",
     "text": [
      "\r Time_lapsed (hr:mm:ss) --> 00:00:11 , Progress:70.8%, completed 34 out of 48 items "
     ]
    },
    {
     "name": "stdout",
     "output_type": "stream",
     "text": [
      "\r Time_lapsed (hr:mm:ss) --> 00:00:11 , Progress:72.9%, completed 35 out of 48 items "
     ]
    },
    {
     "name": "stdout",
     "output_type": "stream",
     "text": [
      "\r Time_lapsed (hr:mm:ss) --> 00:00:11 , Progress:75.0%, completed 36 out of 48 items "
     ]
    },
    {
     "name": "stdout",
     "output_type": "stream",
     "text": [
      "\r Time_lapsed (hr:mm:ss) --> 00:00:11 , Progress:77.1%, completed 37 out of 48 items "
     ]
    },
    {
     "name": "stdout",
     "output_type": "stream",
     "text": [
      "\r Time_lapsed (hr:mm:ss) --> 00:00:12 , Progress:79.2%, completed 38 out of 48 items "
     ]
    },
    {
     "name": "stdout",
     "output_type": "stream",
     "text": [
      "\r Time_lapsed (hr:mm:ss) --> 00:00:12 , Progress:81.2%, completed 39 out of 48 items "
     ]
    },
    {
     "name": "stdout",
     "output_type": "stream",
     "text": [
      "\r Time_lapsed (hr:mm:ss) --> 00:00:12 , Progress:83.3%, completed 40 out of 48 items "
     ]
    },
    {
     "name": "stdout",
     "output_type": "stream",
     "text": [
      "\r Time_lapsed (hr:mm:ss) --> 00:00:12 , Progress:85.4%, completed 41 out of 48 items "
     ]
    },
    {
     "name": "stdout",
     "output_type": "stream",
     "text": [
      "\r Time_lapsed (hr:mm:ss) --> 00:00:12 , Progress:87.5%, completed 42 out of 48 items "
     ]
    },
    {
     "name": "stdout",
     "output_type": "stream",
     "text": [
      "\r Time_lapsed (hr:mm:ss) --> 00:00:13 , Progress:89.6%, completed 43 out of 48 items "
     ]
    },
    {
     "name": "stdout",
     "output_type": "stream",
     "text": [
      "\r Time_lapsed (hr:mm:ss) --> 00:00:13 , Progress:91.7%, completed 44 out of 48 items "
     ]
    },
    {
     "name": "stdout",
     "output_type": "stream",
     "text": [
      "\r Time_lapsed (hr:mm:ss) --> 00:00:13 , Progress:93.8%, completed 45 out of 48 items "
     ]
    },
    {
     "name": "stdout",
     "output_type": "stream",
     "text": [
      "\r Time_lapsed (hr:mm:ss) --> 00:00:13 , Progress:95.8%, completed 46 out of 48 items "
     ]
    },
    {
     "name": "stdout",
     "output_type": "stream",
     "text": [
      "\r Time_lapsed (hr:mm:ss) --> 00:00:13 , Progress:97.9%, completed 47 out of 48 items "
     ]
    },
    {
     "name": "stdout",
     "output_type": "stream",
     "text": [
      "\r Time_lapsed (hr:mm:ss) --> 00:00:14 , Progress:100.0%, completed 48 out of 48 items "
     ]
    }
   ],
   "source": [
    "# validate\n",
    "x = 0\n",
    "mass_prd = []\n",
    "instant_mass = []\n",
    "sum_x = 0\n",
    "start = time.time()\n",
    "items = len(Log_name_d)\n",
    "for i, log in (enumerate(Log_name_d)):\n",
    "    for j, v in enumerate(Volume_d[i]):\n",
    "        x = (model_pos(np.float(v)) * Speed_d[i][j])\n",
    "        instant_mass.append(x)\n",
    "        sum_x += x\n",
    "    mass_prd.append([Log_name_d[i], ground_truth_d[i], np.squeeze(sum_x.numpy()), np.array(instant_mass[0:len(instant_mass)])])\n",
    "    instant_mass.clear()\n",
    "    sum_x = 0\n",
    "    end = time.time() - start\n",
    "    print_progress(i+1, items, end)\n",
    "    \n",
    "np.save(MAIN_dir+'Signals/instant_mass_prd_validate_named.npy', mass_prd)"
   ]
  },
  {
   "cell_type": "code",
   "execution_count": 30,
   "metadata": {},
   "outputs": [],
   "source": [
    ""
   ]
  },
  {
   "cell_type": "code",
   "execution_count": 53,
   "metadata": {
    "collapsed": true
   },
   "outputs": [],
   "source": [
    "mass_prd = np.load(MAIN_dir+'Signals/instant_mass_prd_test_named.npy', allow_pickle=True)"
   ]
  },
  {
   "cell_type": "code",
   "execution_count": 59,
   "metadata": {},
   "outputs": [
    {
     "name": "stdout",
     "output_type": "stream",
     "text": [
      "666.1943\n"
     ]
    }
   ],
   "source": [
    "print(mass_prd[0][0])"
   ]
  },
  {
   "cell_type": "code",
   "execution_count": 44,
   "metadata": {
    "collapsed": true
   },
   "outputs": [
    {
     "name": "stdout",
     "output_type": "stream",
     "text": [
      "0 2015_07_21_1232_bamb_80     675.9687     620     90.972792\n1 2015_07_21_1234_bamb_81     672.6748     617     90.976531\n2 2015_07_22_1502_bamb_82     602.253     628     95.900158\n3 2015_07_22_1506_bamb_83     604.058     625     96.649277\n4 2015_07_22_1510_bamb_84     607.9815     626     97.121646\n5 2015_07_22_1513_bamb_85     614.1893     625     98.270283\n6 2015_07_22_1516_bamb_86     608.796     623     97.720067\n7 2015_07_22_1518_bamb_87     623.05554     624     99.848645\n8 2015_07_22_1521_bamb_88     617.60803     621     99.453789\n9 2015_07_22_1530_bamb_100     564.7691     623     90.653147\n10 2015_07_22_1539_bamb_101     604.68835     622     97.216777\n11 2015_07_22_1541_bamb_102     583.2545     620     94.073309\n12 2015_07_22_1545_bamb_103     599.1057     618     96.942672\n13 2015_07_22_1555_bamb_106     639.95447     626     97.770852\n14 2015_07_22_1557_bamb_107     663.5719     624     93.658349\n15 2015_07_22_1559_bamb_108     678.8335     622     90.862782\n16 2015_07_22_1606_bamb_109     921.5981     635     54.866444\n17 2015_07_22_1609_bamb_110     598.6477     631     94.872853\n18 2015_07_22_1612_bamb_111     608.9166     629     96.807095\n19 2015_07_22_1618_bamb_112     603.36926     629     95.925161\n20 2015_07_22_1621_bamb_113     595.3841     626     95.10928\n21 2015_07_22_1623_bamb_114     597.8093     625     95.649492\n22 2015_07_22_1625_bamb_115     655.86487     624     94.893451\n23 2015_07_22_1628_bamb_116     641.98047     622     96.787706\n24 2015_08_12_1653_bamb_night_36     901.4974     632     57.35801\n25 2015_08_12_1655_bamb_night_37     299.74823     628     47.73061\n26 2015_08_12_1703_bamb_night_38     275.33298     626     43.982904\n27 2015_08_12_1715_bamb_night_2lights     17.527666     0     -inf\n28 2015_08_12_1716_bamb_night_40     680.8328     629     91.759487\n29 2015_08_12_1720_bamb_night_41     664.0387     628     94.261354\n30 2015_08_12_1739_bamb_night_47     774.8129     626     76.227967\n31 2015_08_12_1741_bamb_night_48     313.1356     627     49.94188\n32 2015_08_12_1746_bamb_night_49     591.58746     625     94.653994\n33 2015_08_12_1757_bamb_night_50     642.1027     625     97.263564\n34 2015_08_12_1801_bamb_night_51     680.90814     623     90.704953\n35 2015_08_20_1635_bamb_6L_18     839.8688     634     67.528584\n36 2015_08_20_1638_bamb_6L_19     645.52686     633     98.021034\n37 2015_08_20_1700_bamb_6L_25     695.305     635     90.503151\n38 2015_08_20_1703_bamb_6L_26     698.4754     634     89.830378\n39 2015_08_20_1706_bamb_6L_27     882.00745     631     60.22069\n40 2017_08_04_1043_Flow_Test_25     638.56384     575     88.945419\n41 2017_08_04_1049_Flow_Test_26     592.1775     574     96.83319\n42 2017_08_04_1104_Flow_Test_27     568.6188     596     95.405835\n43 2017_08_04_1109_Flow_Test_28     496.61377     591     84.029403\n44 2017_08_04_1113_Flow_Test_30     622.5873     587     93.937431\n45 2017_08_04_1118_Flow_Test_31     553.4533     529     95.377446\n46 2017_08_04_1120_Flow_Test_32     632.2413     583     91.553813\n47 2017_08_04_1128_Flow_Test_35     602.359     576     95.423783\n"
     ]
    },
    {
     "name": "stderr",
     "output_type": "stream",
     "text": [
      "/home/moe/.local/lib/python3.5/site-packages/ipykernel_launcher.py:3: RuntimeWarning: divide by zero encountered in double_scalars\n  This is separate from the ipykernel package so we can avoid doing imports until\n"
     ]
    }
   ],
   "source": [
    "for i, log in (enumerate(Log_name_d)):\n",
    "    dif = np.abs(mass_prd[i][0] - ground_truth_d[i])\n",
    "    dif = (1-dif/ground_truth_d[i])*100\n",
    "    dif = np.float('{:2f}'.format(dif))\n",
    "    print(i, log,'   ', mass_prd[i][0], '   ', ground_truth_d[i],'   ', dif)\n",
    "\n",
    "\n",
    "# plt.title('mass-vol Signal', color='white')\n",
    "# plt.plot(mass_prd[169][1], 'r--')\n",
    "# plt.show()"
   ]
  },
  {
   "cell_type": "code",
   "execution_count": null,
   "metadata": {},
   "outputs": [],
   "source": []
  },
  {
   "cell_type": "code",
   "execution_count": 140,
   "metadata": {
    "collapsed": true
   },
   "outputs": [
    {
     "name": "stdout",
     "output_type": "stream",
     "text": [
      "2015_07_21_1232_bamb_80 90.696421      677.6822\n2015_07_21_1234_bamb_81 91.016634      672.42737\n2015_07_22_1502_bamb_82 95.570218      600.18097\n2015_07_22_1506_bamb_83 96.485693      603.0356\n2015_07_22_1510_bamb_84 97.006547      607.261\n2015_07_22_1513_bamb_85 98.376787      614.8549\n2015_07_22_1516_bamb_86 98.154426      611.5021\n2015_07_22_1518_bamb_87 99.559667      626.7477\n2015_07_22_1521_bamb_88 99.789611      622.3065\n2015_07_22_1530_bamb_100 90.674053      564.89935\n2015_07_22_1539_bamb_101 97.02068      603.4686\n2015_07_22_1541_bamb_102 94.138312      583.65753\n2015_07_22_1545_bamb_103 96.956686      599.1923\n2015_07_22_1555_bamb_106 97.549468      641.34033\n2015_07_22_1557_bamb_107 93.399596      665.1865\n2015_07_22_1559_bamb_108 91.029059      677.79926\n2015_07_22_1606_bamb_109 56.467122      911.4338\n2015_07_22_1609_bamb_110 94.795974      598.1626\n2015_07_22_1612_bamb_111 96.549689      607.29755\n2015_07_22_1618_bamb_112 95.697652      601.93823\n2015_07_22_1621_bamb_113 95.724478      599.2352\n2015_07_22_1623_bamb_114 96.29583      601.84894\n2015_07_22_1625_bamb_115 94.593469      657.73676\n2015_07_22_1628_bamb_116 96.712482      642.44836\n2015_08_12_1653_bamb_night_36 58.626962      893.4776\n2015_08_12_1655_bamb_night_37 47.714209      299.64523\n2015_08_12_1703_bamb_night_38 43.695546      273.53412\n2015_08_12_1716_bamb_night_40 91.419835      682.96924\n2015_08_12_1720_bamb_night_41 93.827684      666.76215\n2015_08_12_1739_bamb_night_47 76.182386      775.09827\n2015_08_12_1741_bamb_night_48 48.960022      306.97934\n2015_08_12_1746_bamb_night_49 96.013916      600.087\n2015_08_12_1757_bamb_night_50 96.251406      648.4287\n2015_08_12_1801_bamb_night_51 90.313642      683.346\n2015_08_20_1635_bamb_6L_18 68.590721      833.1348\n2015_08_20_1638_bamb_6L_19 98.171202      644.5763\n2015_08_20_1700_bamb_6L_25 89.90862      699.08026\n2015_08_20_1703_bamb_6L_26 89.465168      700.79083\n2015_08_20_1706_bamb_6L_27 61.436199      874.3376\n2017_08_04_1043_Flow_Test_25 89.789041      633.713\n2017_08_04_1049_Flow_Test_26 97.009235      591.167\n2017_08_04_1104_Flow_Test_27 95.787663      570.8945\n2017_08_04_1109_Flow_Test_28 84.216422      497.71906\n2017_08_04_1113_Flow_Test_30 93.519449      625.04083\n2017_08_04_1118_Flow_Test_31 95.844187      550.98425\n2017_08_04_1120_Flow_Test_32 92.927837      624.2307\n2017_08_04_1128_Flow_Test_35 95.167743      603.8338\n8\n"
     ]
    }
   ],
   "source": [
    "accuracy = []\n",
    "count = 0\n",
    "error = []\n",
    "for idx, log in enumerate(Log_name):\n",
    "    # print(mass_prd[idx], '     ', ground_truth[idx])\n",
    "    if ground_truth[idx] > 200:\n",
    "        for log_d in Log_name_d:\n",
    "            if log_d == log:\n",
    "                dif = np.abs(mass_prd[idx] - ground_truth[idx])\n",
    "                dif = (1-dif/ground_truth[idx])*100\n",
    "                dif = np.float('{:2f}'.format(dif))\n",
    "                if dif < 81:\n",
    "                    count+=1\n",
    "                accuracy.append(dif)\n",
    "                print(log_d, dif, '    ',mass_prd[idx] )\n",
    "                error.append((100-dif)/100)\n",
    "                break\n",
    "print(count)"
   ]
  },
  {
   "cell_type": "code",
   "execution_count": 135,
   "metadata": {
    "collapsed": true
   },
   "outputs": [
    {
     "data": {
      "image/png": "[encoded data removed]",
      "text/plain": [
       "<Figure size 432x288 with 1 Axes>"
      ]
     },
     "metadata": {},
     "output_type": "display_data"
    }
   ],
   "source": [
    "# plt.figure(figsize=(20, 20))\n",
    "n, bins, patches = plt.hist(error, bins='auto', color='#0504aa', alpha=0.7, rwidth=0.85)\n",
    "plt.grid(axis='y', alpha=0.75)\n",
    "plt.ylabel('Num of Logs')\n",
    "plt.xlabel(' Accuracy Per Per Log')\n",
    "plt.title('Training Accuracy Distribution')\n",
    "# plt.text(30, 50, r'$\\mu=10, b=5$')\n",
    "max_freq = n.max()\n",
    "# plt.ylim(top=np.ceil(max_freq / 10) * 10 if max_freq % 10 else max_freq + 10)\n",
    "# plt.xlim(right=3)\n",
    "# plt.show()\n",
    "# plt.savefig(MAIN_dir+'\\Signals\\/validation_accuracy.png', dpi=1200)\n"
   ]
  },
  {
   "cell_type": "code",
   "execution_count": 74,
   "metadata": {},
   "outputs": [],
   "source": [
    "np.save(MAIN_dir+'data_files/mass_vol_prd.npy',mass_prd)"
   ]
  },
  {
   "cell_type": "code",
   "execution_count": null,
   "metadata": {},
   "outputs": [],
   "source": []
  }
 ],
 "metadata": {
  "kernelspec": {
   "display_name": "Python 2",
   "language": "python",
   "name": "python2"
  },
  "language_info": {
   "codemirror_mode": {
    "name": "ipython",
    "version": 2
   },
   "file_extension": ".py",
   "mimetype": "text/x-python",
   "name": "python",
   "nbconvert_exporter": "python",
   "pygments_lexer": "ipython2",
   "version": "2.7.6"
  }
 },
 "nbformat": 4,
 "nbformat_minor": 0
}
