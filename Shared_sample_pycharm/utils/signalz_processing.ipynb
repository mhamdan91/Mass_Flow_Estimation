{
 "cells": [
  {
   "cell_type": "code",
   "execution_count": 1,
   "metadata": {
    "collapsed": true
   },
   "outputs": [],
   "source": [
    "# Disabled too many blank lines in python --> settings --> inspection --> python --> coding stlye PEP8 --> added code E303\n",
    "\n",
    "import numpy as np          # dealing with arrays\n",
    "import os                   # dealing with directories\n",
    "import pandas as pd\n",
    "from tqdm import tqdm       # a nice pretty percentage bar for tasks. Thanks to viewer Daniel BA1/4hler for this suggestion\n",
    "import matplotlib.pyplot as plt\n",
    "\n",
    "import pickle as pk\n",
    "# testing_dir = '/home/moe/Desktop/bambo_Logs/Data/my_dataset/testing/'\n",
    "# validation_dir = '/home/moe/Desktop/bambo_Logs/Data/my_dataset/validation/'\n",
    "# training_dir = '/home/moe/Desktop/bambo_Logs/Data/my_dataset/training/'\n",
    "\n",
    "\n",
    "HOME_DIR = '/home/moe/PycharmProjects/clean_code/'\n",
    "MAIN_dir = '/home/moe/PycharmProjects/clean_code/Cleaned_code/'\n",
    "elevator_path = '/home/moe/Desktop/bambo_Logs/Data/elevator_fulldata/process/'\n",
    "excel_file = '/home/moe/Desktop/bambo_Logs/Data/weight_log_summary_602020.xlsx'\n",
    "dataset_path = '/home/moe/Desktop/bambo_Logs/Data/my_dataset/'"
   ]
  },
  {
   "cell_type": "code",
   "execution_count": 2,
   "metadata": {},
   "outputs": [],
   "source": [
    "signalz =np.load(MAIN_dir+'\\data_files\\/testing_signals_5th_199.npy')"
   ]
  },
  {
   "cell_type": "code",
   "execution_count": 3,
   "metadata": {},
   "outputs": [],
   "source": [
    "accuracy = []\n",
    "corrected_sig = []\n",
    "for i, sig in enumerate(signalz):\n",
    "    for m , point in enumerate(sig[3]):\n",
    "        if point <= 1:\n",
    "            corrected_sig.append(0)\n",
    "        else:\n",
    "            corrected_sig.append(point) \n",
    "    prd = np.sum(corrected_sig)\n",
    "    prd1 = '{:.2f}'.format(prd)\n",
    "    gt = np.squeeze(sig[1])\n",
    "    mse = np.square(gt-prd)/len(sig[3])\n",
    "    mae = np.abs(gt-prd)\n",
    "    # \n",
    "    if gt != 0:\n",
    "        ACC = np.ceil((1-((mae+1)/(gt+1))-.000001)*100)\n",
    "        if ACC > 60:\n",
    "            accuracy.append(ACC)\n",
    "    corrected_sig.clear()"
   ]
  },
  {
   "cell_type": "code",
   "execution_count": 14,
   "metadata": {},
   "outputs": [
    {
     "name": "stdout",
     "output_type": "stream",
     "text": [
      "0"
     ]
    },
    {
     "name": "stdout",
     "output_type": "stream",
     "text": [
      " "
     ]
    },
    {
     "name": "stdout",
     "output_type": "stream",
     "text": [
      "93.0"
     ]
    },
    {
     "name": "stdout",
     "output_type": "stream",
     "text": [
      "\n"
     ]
    },
    {
     "name": "stdout",
     "output_type": "stream",
     "text": [
      "1"
     ]
    },
    {
     "name": "stdout",
     "output_type": "stream",
     "text": [
      " "
     ]
    },
    {
     "name": "stdout",
     "output_type": "stream",
     "text": [
      "98.0"
     ]
    },
    {
     "name": "stdout",
     "output_type": "stream",
     "text": [
      "\n"
     ]
    },
    {
     "name": "stdout",
     "output_type": "stream",
     "text": [
      "2"
     ]
    },
    {
     "name": "stdout",
     "output_type": "stream",
     "text": [
      " "
     ]
    },
    {
     "name": "stdout",
     "output_type": "stream",
     "text": [
      "98.0"
     ]
    },
    {
     "name": "stdout",
     "output_type": "stream",
     "text": [
      "\n"
     ]
    },
    {
     "name": "stdout",
     "output_type": "stream",
     "text": [
      "3"
     ]
    },
    {
     "name": "stdout",
     "output_type": "stream",
     "text": [
      " "
     ]
    },
    {
     "name": "stdout",
     "output_type": "stream",
     "text": [
      "86.0"
     ]
    },
    {
     "name": "stdout",
     "output_type": "stream",
     "text": [
      "\n"
     ]
    },
    {
     "name": "stdout",
     "output_type": "stream",
     "text": [
      "4"
     ]
    },
    {
     "name": "stdout",
     "output_type": "stream",
     "text": [
      " "
     ]
    },
    {
     "name": "stdout",
     "output_type": "stream",
     "text": [
      "100.0"
     ]
    },
    {
     "name": "stdout",
     "output_type": "stream",
     "text": [
      "\n"
     ]
    },
    {
     "name": "stdout",
     "output_type": "stream",
     "text": [
      "5"
     ]
    },
    {
     "name": "stdout",
     "output_type": "stream",
     "text": [
      " "
     ]
    },
    {
     "name": "stdout",
     "output_type": "stream",
     "text": [
      "97.0"
     ]
    },
    {
     "name": "stdout",
     "output_type": "stream",
     "text": [
      "\n"
     ]
    },
    {
     "name": "stdout",
     "output_type": "stream",
     "text": [
      "6"
     ]
    },
    {
     "name": "stdout",
     "output_type": "stream",
     "text": [
      " "
     ]
    },
    {
     "name": "stdout",
     "output_type": "stream",
     "text": [
      "100.0"
     ]
    },
    {
     "name": "stdout",
     "output_type": "stream",
     "text": [
      "\n"
     ]
    },
    {
     "name": "stdout",
     "output_type": "stream",
     "text": [
      "7"
     ]
    },
    {
     "name": "stdout",
     "output_type": "stream",
     "text": [
      " "
     ]
    },
    {
     "name": "stdout",
     "output_type": "stream",
     "text": [
      "89.0"
     ]
    },
    {
     "name": "stdout",
     "output_type": "stream",
     "text": [
      "\n"
     ]
    },
    {
     "name": "stdout",
     "output_type": "stream",
     "text": [
      "8"
     ]
    },
    {
     "name": "stdout",
     "output_type": "stream",
     "text": [
      " "
     ]
    },
    {
     "name": "stdout",
     "output_type": "stream",
     "text": [
      "95.0"
     ]
    },
    {
     "name": "stdout",
     "output_type": "stream",
     "text": [
      "\n"
     ]
    },
    {
     "name": "stdout",
     "output_type": "stream",
     "text": [
      "9"
     ]
    },
    {
     "name": "stdout",
     "output_type": "stream",
     "text": [
      " "
     ]
    },
    {
     "name": "stdout",
     "output_type": "stream",
     "text": [
      "76.0"
     ]
    },
    {
     "name": "stdout",
     "output_type": "stream",
     "text": [
      "\n"
     ]
    },
    {
     "name": "stdout",
     "output_type": "stream",
     "text": [
      "10"
     ]
    },
    {
     "name": "stdout",
     "output_type": "stream",
     "text": [
      " "
     ]
    },
    {
     "name": "stdout",
     "output_type": "stream",
     "text": [
      "100.0"
     ]
    },
    {
     "name": "stdout",
     "output_type": "stream",
     "text": [
      "\n"
     ]
    },
    {
     "name": "stdout",
     "output_type": "stream",
     "text": [
      "11"
     ]
    },
    {
     "name": "stdout",
     "output_type": "stream",
     "text": [
      " "
     ]
    },
    {
     "name": "stdout",
     "output_type": "stream",
     "text": [
      "98.0"
     ]
    },
    {
     "name": "stdout",
     "output_type": "stream",
     "text": [
      "\n"
     ]
    },
    {
     "name": "stdout",
     "output_type": "stream",
     "text": [
      "12"
     ]
    },
    {
     "name": "stdout",
     "output_type": "stream",
     "text": [
      " "
     ]
    },
    {
     "name": "stdout",
     "output_type": "stream",
     "text": [
      "95.0"
     ]
    },
    {
     "name": "stdout",
     "output_type": "stream",
     "text": [
      "\n"
     ]
    },
    {
     "name": "stdout",
     "output_type": "stream",
     "text": [
      "13"
     ]
    },
    {
     "name": "stdout",
     "output_type": "stream",
     "text": [
      " "
     ]
    }
   ],
   "source": [
    "for n, item in enumerate(accuracy):\n",
    "    print(n, item)\n",
    "\n",
    "print(accuracy)"
   ]
  },
  {
   "cell_type": "code",
   "execution_count": null,
   "metadata": {},
   "outputs": [],
   "source": []
  },
  {
   "cell_type": "code",
   "execution_count": null,
   "metadata": {},
   "outputs": [],
   "source": []
  },
  {
   "cell_type": "code",
   "execution_count": null,
   "metadata": {},
   "outputs": [],
   "source": []
  },
  {
   "cell_type": "code",
   "execution_count": null,
   "metadata": {},
   "outputs": [],
   "source": []
  },
  {
   "cell_type": "code",
   "execution_count": 6,
   "metadata": {},
   "outputs": [
    {
     "data": {
      "image/png": "[encoded data removed]",
      "text/plain": [
       "<Figure size 432x288 with 1 Axes>"
      ]
     },
     "metadata": {},
     "output_type": "display_data"
    }
   ],
   "source": [
    "# plt.figure(figsize=(20, 20))\n",
    "n, bins, patches = plt.hist(accuracy, bins='auto', color='#0504aa', alpha=0.7, rwidth=0.85)\n",
    "plt.grid(axis='y', alpha=0.75)\n",
    "plt.ylabel('Num of Logs')\n",
    "plt.xlabel(' Accuracy Per Per Log')\n",
    "plt.title('Training Accuracy Distribution')\n",
    "# plt.text(30, 50, r'$\\mu=10, b=5$')\n",
    "max_freq = n.max()\n",
    "# plt.ylim(top=np.ceil(max_freq / 10) * 10 if max_freq % 10 else max_freq + 10)\n",
    "# plt.xlim(right=3)\n",
    "# plt.show()\n",
    "plt.savefig(MAIN_dir+'\\Signals\\/validation_accuracy.png', dpi=1200)\n"
   ]
  },
  {
   "cell_type": "code",
   "execution_count": 33,
   "metadata": {
    "collapsed": true
   },
   "outputs": [
    {
     "name": "stdout",
     "output_type": "stream",
     "text": [
      "Summary"
     ]
    },
    {
     "name": "stdout",
     "output_type": "stream",
     "text": [
      "\n"
     ]
    },
    {
     "name": "stdout",
     "output_type": "stream",
     "text": [
      "Log length:"
     ]
    },
    {
     "name": "stdout",
     "output_type": "stream",
     "text": [
      " "
     ]
    },
    {
     "name": "stdout",
     "output_type": "stream",
     "text": [
      "410.0"
     ]
    },
    {
     "name": "stdout",
     "output_type": "stream",
     "text": [
      "\n"
     ]
    },
    {
     "name": "stdout",
     "output_type": "stream",
     "text": [
      "Ground Truth:"
     ]
    },
    {
     "name": "stdout",
     "output_type": "stream",
     "text": [
      " "
     ]
    },
    {
     "name": "stdout",
     "output_type": "stream",
     "text": [
      "624.0"
     ]
    },
    {
     "name": "stdout",
     "output_type": "stream",
     "text": [
      " "
     ]
    },
    {
     "name": "stdout",
     "output_type": "stream",
     "text": [
      "Prediction:"
     ]
    },
    {
     "name": "stdout",
     "output_type": "stream",
     "text": [
      " "
     ]
    },
    {
     "name": "stdout",
     "output_type": "stream",
     "text": [
      "641.89"
     ]
    },
    {
     "name": "stdout",
     "output_type": "stream",
     "text": [
      "\n"
     ]
    },
    {
     "name": "stdout",
     "output_type": "stream",
     "text": [
      "Accuracy:"
     ]
    },
    {
     "name": "stdout",
     "output_type": "stream",
     "text": [
      " "
     ]
    },
    {
     "name": "stdout",
     "output_type": "stream",
     "text": [
      "97.13"
     ]
    },
    {
     "name": "stdout",
     "output_type": "stream",
     "text": [
      " "
     ]
    },
    {
     "name": "stdout",
     "output_type": "stream",
     "text": [
      "%"
     ]
    },
    {
     "name": "stdout",
     "output_type": "stream",
     "text": [
      "\n"
     ]
    },
    {
     "data": {
      "image/png": "[encoded data removed]",
      "text/plain": [
       "<Figure size 432x288 with 1 Axes>"
      ]
     },
     "metadata": {},
     "output_type": "display_data"
    }
   ],
   "source": [
    "corrected_sig = []\n",
    "scaled_volume = []\n",
    "\n",
    "# val = 7\n",
    "# test = 6\n",
    "# train = 8\n",
    "\n",
    "x = 7\n",
    "for i, sig in enumerate(signalz):\n",
    "\n",
    "    \n",
    "    if i>=x:\n",
    "        for m , point in enumerate(sig[3]):\n",
    "            scaled_volume.append(sig[4][m]/10)\n",
    "            if point <= 1:\n",
    "                corrected_sig.append(0)\n",
    "            else:\n",
    "                corrected_sig.append(point) \n",
    "        prd = np.sum(corrected_sig)\n",
    "        prd1 = '{:.2f}'.format(prd)\n",
    "        gt = np.squeeze(sig[1])\n",
    "        mse = np.square(gt-prd)/len(sig[3])\n",
    "        mae = np.abs(gt-prd)\n",
    "        ACC = (1-mae/gt)*100\n",
    "        ACC1 = '{:.2f}'.format(ACC)\n",
    "        max_ = np.max(corrected_sig)\n",
    "        print('Summary')\n",
    "        # print('Log name:', sig[0])\n",
    "        print('Log length:', sig[2])\n",
    "        print('Ground Truth:', gt, 'Prediction:', prd1)\n",
    "        print('Accuracy:', ACC1,'%')\n",
    "        # print('MSE:', mse, 'MAE:', mae, 'Accuracy:', ACC,'%')\n",
    "\n",
    "        plt.grid(axis='y', alpha=0.75)\n",
    "        plt.ylabel('Mass')\n",
    "        plt.xlabel(' Image index in log')\n",
    "        plt.title('Mass Predicted Signal')\n",
    "        plt.plot(sig[3], '--')\n",
    "        # # plt.ylim(top=np.ceil(max_ / 10) * 10 if max_ % 10 else max_ + 10)\n",
    "        # plt.show()\n",
    "        # plt.text(0, 6, r'$Ground Truth=$')\n",
    "        # plt.text(120, 6, str(gt))\n",
    "        # plt.text(0, 5, r'$Prediction=$')\n",
    "        # plt.text(100, 5, str(prd1))\n",
    "        # plt.text(0, 4, r'$Accuracy=$')\n",
    "        # plt.text(100, 4, str(ACC1))\n",
    "        # plt.text(145, 4, '%')\n",
    "        plt.savefig(MAIN_dir+'\\Signals\\mass_validation.png', dpi=1200)\n",
    "\n",
    "        \n",
    "        # corrected_sig.clear()\n",
    "        # plt.ylabel('Volume')\n",
    "        # plt.xlabel(' Image index in log')\n",
    "        # plt.title('Volume Signal')\n",
    "        # plt.plot(sig[4], 'r--')\n",
    "        # # max_1 = np.max(sig[4])\n",
    "        # # plt.ylim(top=np.ceil(max_1 / 10) * 10 if max_1 % 10 else max_1 + 10)\n",
    "        # plt.show()\n",
    "\n",
    "        # plt.savefig(MAIN_dir+'\\Signals\\/volume_mass_validation.png' , dpi=1200)\n",
    "    # if i>(x+4):\n",
    "    #     break\n",
    "        break"
   ]
  },
  {
   "cell_type": "code",
   "execution_count": null,
   "metadata": {},
   "outputs": [],
   "source": []
  },
  {
   "cell_type": "code",
   "execution_count": null,
   "metadata": {},
   "outputs": [],
   "source": []
  },
  {
   "cell_type": "code",
   "execution_count": null,
   "metadata": {},
   "outputs": [],
   "source": []
  },
  {
   "cell_type": "code",
   "execution_count": null,
   "metadata": {},
   "outputs": [],
   "source": []
  }
 ],
 "metadata": {
  "kernelspec": {
   "display_name": "Python 2",
   "language": "python",
   "name": "python2"
  },
  "language_info": {
   "codemirror_mode": {
    "name": "ipython",
    "version": 2
   },
   "file_extension": ".py",
   "mimetype": "text/x-python",
   "name": "python",
   "nbconvert_exporter": "python",
   "pygments_lexer": "ipython2",
   "version": "2.7.6"
  }
 },
 "nbformat": 4,
 "nbformat_minor": 0
}
